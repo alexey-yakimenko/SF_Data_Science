{
 "cells": [
  {
   "cell_type": "markdown",
   "metadata": {},
   "source": [
    "✍ Как вы помните, данные в БД хранятся в таблицах. В этом модуле мы будем работать с таблицей kinopoisk: она содержит данные о 250 лучших фильмах по версии сервиса «Кинопоиск» (рейтинг собран в мае 2020 года).\n",
    "\n",
    "Давайте посмотрим на таблицу [kinopoisk](http://sql.skillfactory.ru:3000/question#eyJkYXRhc2V0X3F1ZXJ5Ijp7ImRhdGFiYXNlIjoyLCJxdWVyeSI6eyJzb3VyY2UtdGFibGUiOjcwfSwidHlwZSI6InF1ZXJ5In0sImRpc3BsYXkiOiJ0YWJsZSIsInZpc3VhbGl6YXRpb25fc2V0dGluZ3MiOnt9fQ==) и изучим, какие данные в ней хранятся:"
   ]
  },
  {
   "cell_type": "markdown",
   "metadata": {},
   "source": [
    "Название поля\t    Содержимое  \n",
    "position\t        номер в базе данных  \n",
    "movie_title\t        название фильма  \n",
    "year\t            год выпуска  \n",
    "country\t            страна выпуска  \n",
    "rating\t            рейтинг фильма в базе  \n",
    "overview\t        описание фильма  "
   ]
  },
  {
   "cell_type": "markdown",
   "metadata": {},
   "source": [
    "SELECT *\n",
    "FROM sql.kinopoisk\n",
    "В результате вы увидите всё содержимое таблицы.\n",
    "\n",
    "\n",
    "![Alt text](data/image1.png)\n"
   ]
  },
  {
   "cell_type": "markdown",
   "metadata": {},
   "source": [
    "Обратите внимание! Metabase выводит только первые 2 000 строк: в нашем случае таблица полностью уместилась в выводе.\n",
    "\n",
    "При этом отображена только часть вывода, поскольку не все строки и столбцы влезли на экран. Вы можете увидеть всё содержимое таблицы, прокрутив страницу по вертикали и горизонтали.\n",
    "\n",
    "Что ещё мы видим? Числа отображаются в американском формате (с десятичным разделителем — точкой и разделителем разрядов — запятой).\n",
    "\n",
    "Теперь давайте разберём запрос, благодаря которому мы получили такой результат.\n",
    "\n",
    "!\n",
    "РАЗБИРАЕМ ЗАПРОС\n",
    "\n",
    "→ Оператор SELECT сообщает СУБД, что вы хотите извлечь из неё данные. SELECT лежит в основе любого SQL-запроса к БД.\n",
    "\n",
    "→ FROM sql.kinopoisk сообщает, из какой таблицы извлекаются данные. Сначала указывается название схемы, в которой содержится таблица (в нашем случае — это sql), а после точки — название самой таблицы (kinopoisk).\n",
    "\n",
    "→ Звёздочка * указывает, что вы хотите видеть все столбцы этой таблицы.\n",
    "\n",
    "Если же вам нужны не все столбцы, а только некоторые, вместо звёздочки перечислите названия всех интересующих вас столбцов через запятую.\n",
    "\n",
    "Важно! SQL нечувствителен к регистру, поэтому ключевые слова можно писать хоть строчными, хоть прописными буквами: SELECT, select или SeLeCt."
   ]
  },
  {
   "cell_type": "markdown",
   "metadata": {},
   "source": [
    "опустим, вы хотите написать запрос, аналогичный запросу из задания, только вместо года выхода фильма, вам нужен его «возраст» на 2020 год.\n",
    "\n",
    "В таком случае наш запрос будет выглядеть так:\n",
    "\n",
    "ЗапросДетализация\n",
    "SELECT\n",
    "    movie_title,\n",
    "    2020 - year,\n",
    "    rating\n",
    "FROM sql.kinopoisk\n",
    "То есть мы отняли от 2020 года год выхода фильма и получили его возраст! Элементарно!\n",
    "\n",
    "Примечание. Вы можете посмотреть подробный разбор структуры запроса во вкладке Детализация."
   ]
  },
  {
   "cell_type": "code",
   "execution_count": null,
   "metadata": {},
   "outputs": [],
   "source": [
    "SELECT /*выбор столбцов*/\n",
    "    movie_title, /*столбец movie_title*/\n",
    "    2020 - year, /*столбец, каждое из значений которого ровно разнице 2020 и соответствующего значения столбца year*/\n",
    "    rating /*столбец rating*/\n",
    "FROM sql.kinopoisk /*из таблицы sql.kinopoisk*/"
   ]
  },
  {
   "cell_type": "markdown",
   "metadata": {},
   "source": [
    "ТО МЫ ВИДИМ?\n",
    "\n",
    "Столбец с вычислениями в выводе называется ?column?, потому что Metabase не смог подобрать для него название.\n",
    "\n",
    "Давайте наведём порядок и переименуем столбец!\n",
    "\n",
    "⛏\n",
    "ПОПРОБУЙТЕ В METABASE!\n",
    "\n",
    "Для этого используем ключевое слово AS и поставим после него новое имя difference. Можем повторить этот процесс для каждого столбца.\n",
    "\n",
    "ЗапросДетализация\n",
    "SELECT\n",
    "    director,\n",
    "    movie_title,\n",
    "    10 - rating AS difference\n",
    "FROM sql.kinopoisk\n",
    "Новое имя является просто псевдонимом, или алиасом, — оно временное и не меняет реального имени столбца в базе данных. Алиас влияет только на то, как столбец отображается в выводе конкретного запроса.\n",
    "\n",
    "Алиасом может быть как одно слово, так и несколько, а его написание — как латиницей, так и кириллицей.\n",
    "\n",
    "Обратите внимание! Если в алиасе используется кириллица или пробелы, необходимо заключать его в двойные кавычки: 10 - rating AS \"разница\" или movie_title AS \"Movie Title\".\n",
    "\n",
    "⚡ Будьте внимательны! При выполнении заданий в рамках курса используйте алиасы аккуратно. Если в задаче не указано, какое имя нужно присвоить столбцу, значит, его нужно выводить под тем же названием, что дано ему в таблице.\n",
    "\n",
    "ПРОСТЫЕ ОПЕРАЦИИ С ДАННЫМИ\n",
    "\n",
    "Со столбцами, которые содержат числовые данные, можно проводить арифметические операции:\n",
    "\n",
    "сложение с помощью + ;\n",
    "вычитание с помощью - (этот тип операции вы уже проводили, когда определяли «возраст» фильма);\n",
    "умножение с помощью * ;\n",
    "деление с помощью / ;\n",
    "Важно! Если и числитель, и знаменатель — целые числа, результат деления также будет целочисленным, то есть этот оператор произведёт деление нацело.\n",
    "\n",
    "получение остатка от деления с помощью % .\n",
    "ДОПОЛНИТЕЛЬНО\n",
    "\n",
    "С полным перечнем доступных арифметических операций вы можете ознакомиться в [официальной документации](https://postgrespro.ru/docs/postgresql/11/functions-math)."
   ]
  },
  {
   "cell_type": "code",
   "execution_count": null,
   "metadata": {},
   "outputs": [],
   "source": [
    "SELECT /*выбрать столбцы*/\n",
    "    director, /*столбец director*/\n",
    "    movie_title, /*столбец movie_title*/\n",
    "    10 - rating AS difference /*столбец, значения в котором равны разнице 10 и каждого соответствующего значения столбца rating; присвоить столбцу алиас difference*/\n",
    "FROM sql.kinopoisk /*из таблицы sql.kinopoisk*/"
   ]
  },
  {
   "cell_type": "markdown",
   "metadata": {},
   "source": [
    "Также мы можем проводить арифметические операции с несколькими столбцами.\n",
    "\n",
    "Давайте выведем для каждого фильма результат деления года его выпуска на рейтинг (что бы это ни значило :)).\n",
    "\n",
    "SELECT /*выбрать столбцы*/\n",
    "    movie_title, /*столбец movie_title*/\n",
    "    year / rating /*столбец, значения которого равны результату деления значений столбца year на соответствующие значения столбца rating*/\n",
    "FROM sql.kinopoisk /*из таблицы sql.kinopoisk*/"
   ]
  },
  {
   "cell_type": "markdown",
   "metadata": {},
   "source": [
    "WHERE\n",
    "\n",
    "Мы уже знаем, что делать, если нам нужны лишь несколько столбцов из таблицы.\n",
    "\n",
    "Но как быть, если мы хотим видеть не все строки, а только некоторые из них?\n",
    "\n",
    "В таком случае нам пригодится ключевое слово WHERE.\n",
    "\n",
    "Получим для примера всю информации о фильме, занимающем первую позицию.\n",
    "\n",
    "SELECT * /*выбор всех столбцов*/  \n",
    "FROM sql.kinopoisk /*из таблицы sql.kinopoisk*/  \n",
    "WHERE position = 1 /*с позицией 1*/  \n",
    "\n",
    "\n",
    "SELECT * /*выбор всех полей*/  \n",
    "FROM sql.kinopoisk /*из таблицы sql.kinopoisk*/  \n",
    "WHERE year >= 2000 /*при условии, что год создания больше или равен 2000*/  \n",
    "AND rating >= 8 /*и с рейтингом от 8 и выше*/  \n",
    "\n",
    "\n",
    "SELECT * /*выбор всех полей*/  \n",
    "FROM sql.kinopoisk /*из таблиц sql.kinopoisk*/  \n",
    "WHERE year BETWEEN 1975 AND 1985 /*при условии, что год создания лежит в промежутке между 1975 и 1985*/  "
   ]
  },
  {
   "cell_type": "markdown",
   "metadata": {},
   "source": [
    "SELECT director, movie_title  \n",
    "FROM sql.kinopoisk  \n",
    "WHERE year IN (2000, 1985, 1939)  "
   ]
  },
  {
   "cell_type": "markdown",
   "metadata": {},
   "source": [
    "SELECT movie_title  \n",
    "FROM sql.kinopoisk  \n",
    "WHERE director = 'Леонид Гайдай'  "
   ]
  },
  {
   "cell_type": "markdown",
   "metadata": {},
   "source": [
    "SELECT * /*выбор всех полей*/  \n",
    "FROM sql.kinopoisk /*из таблицы sql.kinopoisk*/  \n",
    "WHERE movie_title LIKE 'А%' /*если название фильма начинается на А*/   \n",
    "\n",
    "\n",
    "Знак процента (%) в примере показывает, что после A встречается ноль и более символов. Вы можете использовать % в любом месте внутри строки.\n",
    "\n",
    "Например, movie_title LIKE '%а%б%' выведет все фильмы, в названии которых встречается строчная буква а, а где-то после неё — б.\n",
    "\n",
    "Также в текстовых строках используется знак подчёркивания (_) — он заменяет ровно один любой символ."
   ]
  },
  {
   "cell_type": "markdown",
   "metadata": {},
   "source": [
    "SELECT *  \n",
    "FROM sql.kinopoisk  \n",
    "WHERE overview IS NULL  "
   ]
  },
  {
   "cell_type": "markdown",
   "metadata": {},
   "source": [
    "Вы можете добавить к условию уже изученное ключевое слово NOT, чтобы получилось overview IS NOT NULL, тогда в выводе вы увидите только фильмы с заполненным описанием.\n",
    "\n",
    "Важно! NULL — это специальное значение. Если вы фильтруете столбец, в котором есть пустые значения, по любому условию, кроме IS NULL / IS NOT NULL, такие значения будут исключены из вывода."
   ]
  },
  {
   "cell_type": "markdown",
   "metadata": {},
   "source": [
    "SELECT *  \n",
    "FROM sql.kinopoisk  \n",
    "ORDER BY movie_title  "
   ]
  },
  {
   "cell_type": "markdown",
   "metadata": {},
   "source": [
    "SELECT  \n",
    "    movie_title,  \n",
    "    director,  \n",
    "    screenwriter,  \n",
    "    year  \n",
    "FROM sql.kinopoisk  \n",
    "WHERE country = 'СССР'  \n",
    "ORDER BY rating DESC  "
   ]
  },
  {
   "cell_type": "markdown",
   "metadata": {},
   "source": [
    "SELECT  \n",
    "    movie_title,  \n",
    "    overview,  \n",
    "    year  \n",
    "FROM sql.kinopoisk  \n",
    "WHERE country != 'США' AND rating > 8.2  \n",
    "ORDER BY year DESC  "
   ]
  },
  {
   "cell_type": "markdown",
   "metadata": {},
   "source": [
    "Также в ORDER BY можно указывать, где должны идти пустые значения — в начале или в конце.\n",
    "\n",
    "Такая настройка порядка вывода задаётся с помощью ключевых слов NULLS FIRST / NULLS LAST."
   ]
  },
  {
   "cell_type": "markdown",
   "metadata": {},
   "source": [
    "SELECT  \n",
    "    movie_title,  \n",
    "    rating,  \n",
    "    overview,  \n",
    "    year  \n",
    "FROM sql.kinopoisk  \n",
    "ORDER BY overview NULLS first  "
   ]
  },
  {
   "cell_type": "markdown",
   "metadata": {},
   "source": [
    "SELECT    \n",
    "    director,  \n",
    "    movie_title  \n",
    "FROM sql.kinopoisk   \n",
    "ORDER BY year, rating DESC  "
   ]
  },
  {
   "cell_type": "markdown",
   "metadata": {},
   "source": [
    "SELECT  \n",
    "    movie_title  \n",
    "FROM sql.kinopoisk  \n",
    "WHERE country = 'Франция' AND rating > 8.3  \n",
    "ORDER BY rating DESC, year DESC  "
   ]
  },
  {
   "cell_type": "markdown",
   "metadata": {},
   "source": [
    "SELECT  \n",
    "    director,   \n",
    "    movie_title,    \n",
    "    year    \n",
    "FROM sql.kinopoisk  \n",
    "ORDER BY 1, 3 DESC  "
   ]
  },
  {
   "cell_type": "markdown",
   "metadata": {},
   "source": [
    "Сортировку по номеру столбца стоит использовать с осторожностью, поскольку при изменении вывода в SELECT всё может сбиться.\n",
    "\n",
    "При добавлении новых столбцов в SELECT нужно проверить и при необходимости поправить номера столбцов в ORDER BY."
   ]
  },
  {
   "cell_type": "markdown",
   "metadata": {},
   "source": [
    "SELECT  \n",
    "    movie_title,    \n",
    "    rating  \n",
    "FROM sql.kinopoisk  \n",
    "ORDER BY rating DESC    \n",
    "LIMIT 5 "
   ]
  },
  {
   "cell_type": "markdown",
   "metadata": {},
   "source": [
    "SELECT /*выбор*/    \n",
    "    movie_title, /*столбец movie_title*/    \n",
    "    rating /*столбец rating*/   \n",
    "FROM sql.kinopoisk /*из таблицы sql.kinopoisk*/ \n",
    "ORDER BY rating DESC /*сортировка по столбцу rating в порядке убывания*/    \n",
    "OFFSET 3 LIMIT 5 /*исключить первые три строки и вывести пять следующих за ними*/   "
   ]
  },
  {
   "cell_type": "markdown",
   "metadata": {},
   "source": [
    "# <CENTER> ВАЖНО </center>\n",
    "\n",
    "\n",
    "SELECT  \n",
    "    столбец1 AS новое_название, \n",
    "    столбец2,    столбец3   \n",
    "FROM таблица    \n",
    "WHERE (условие1 OR условие2)    AND условие3    \n",
    "ORDER BY сортировка1, сортировка2   \n",
    "OFFSET 1 LIMIT 2    "
   ]
  },
  {
   "cell_type": "markdown",
   "metadata": {},
   "source": []
  }
 ],
 "metadata": {
  "language_info": {
   "name": "python"
  },
  "orig_nbformat": 4
 },
 "nbformat": 4,
 "nbformat_minor": 2
}
