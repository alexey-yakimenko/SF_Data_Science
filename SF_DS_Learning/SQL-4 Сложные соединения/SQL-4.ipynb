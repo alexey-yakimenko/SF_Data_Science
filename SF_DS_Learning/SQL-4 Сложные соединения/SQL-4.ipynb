{
 "cells": [
  {
   "cell_type": "markdown",
   "metadata": {},
   "source": [
    "В данном блоке мы будем работать с данными о компании, организующей перевозки грузов.\n",
    "\n",
    "Интересующие нас данные хранятся в таблицах city, customer, driver, shipment, truck. Давайте внимательно их изучим.\n",
    "\n",
    "Ниже представлена ER-диаграмма (от англ. entity-relation, дословно — «сущность-связь»), которая отображает существующие связи между отдельными таблицами.\n",
    "\n",
    "\n",
    "Таблица city — это справочник городов. Структура справочника представлена ниже.\n",
    "\n",
    "НАЗВАНИЕ ПОЛЯ\tТИП ДАННЫХ\tОПИСАНИЕ\n",
    "city_id\t        integer\t    уникальный идентификатор города, первичный ключ\n",
    "city_name\t    text\t    название города\n",
    "state\t        text\t    штат, к которому относится город\n",
    "population\t    integer\t    население города\n",
    "area\t        numeric\t    площадь города\n",
    "\n",
    "\n",
    "Таблица customer — это справочник клиентов. У компании, с данными которой мы работаем, только корпоративные клиенты, поэтому в таблице нет привычных данных о возрасте и поле. Справочник содержит следующие поля:\n",
    "\n",
    "НАЗВАНИЕ ПОЛЯ\tТИП ДАННЫХ\tОПИСАНИЕ\n",
    "cust_id\t        integer \tуникальный идентификатор клиента, первичный ключ\n",
    "cust_name\t    text\t    название клиента\n",
    "annual_revenue\tnumeric\t    ежегодная выручка\n",
    "cust_type\t    text\t    тип пользователя\n",
    "address\t        text\t    адрес\n",
    "zip\t            integer\t    почтовый индекс\n",
    "phone\t        text\t    телефон\n",
    "city_id\tinteger\tидентификатор города, внешний ключ к таблице city\n",
    "\n",
    "\n",
    "Следующая таблица — driver — справочник водителей. Перечень сведений, содержащихся в таблице, представлен ниже.\n",
    "\n",
    "НАЗВАНИЕ ПОЛЯ\tТИП ДАННЫХ \tОПИСАНИЕ\n",
    "driver_id\t    integer\t    уникальный идентификатор водителя, первичный ключ\n",
    "first_name\t    text\t    имя водителя\n",
    "last_name   \ttext\t    фамилия водителя\n",
    "address\t        text\t    адрес водителя\n",
    "zip_code\t    integer\t    почтовый индекс водителя\n",
    "phone\t        text\t    телефон водителя\n",
    "city_id\t        integer\t    идентификатор города водителя, внешний ключ к таблице city\n",
    "\n",
    "\n",
    "В таблице truck хранится информация о грузовиках, на которых осуществляются перевозки. Данные о них представлены в следующем виде:\n",
    "\n",
    "НАЗВАНИЕ ПОЛЯ\tТИП ДАННЫХ\tОПИСАНИЕ\n",
    "truck_id\t    integer\t    Уникальный идентификатор грузовика, первичный ключ\n",
    "make\t        text\t    Производитель грузовика\n",
    "model_year\t    integer \tДата выпуска грузовика\n",
    "\n",
    "\n",
    "Последняя таблица в датасете, shipment, — таблица с данными непосредственно о доставках. Она описывает взаимодействие всех перечисленных сущностей, а потому содержит наибольшее количество ссылок на другие таблицы.\n",
    "\n",
    "НАЗВАНИЕ ПОЛЯ\tТИП ДАННЫХ\tОПИСАНИЕ\n",
    "ship_id\t        integer \tуникальный идентификатор доставки, первичный ключ\n",
    "cust_id     \tinteger\t    идентификатор клиента, которому отправлена доставка, внешний ключ к таблице customer\n",
    "weight\t        numeric\t    вес посылки\n",
    "truck_id\t    integer \tидентификатор грузовика, на котором отправлена доставка, внешний ключ к таблице truck\n",
    "driver_id\t    integer\t    идентификатор водителя, который осуществлял доставку, внешний ключ к таблице driver\n",
    "city_id\t        integer \tидентификатор города в который совершена доставка, внешний ключ к таблице city\n",
    "ship_date\t    date\t    дата доставки"
   ]
  },
  {
   "cell_type": "markdown",
   "metadata": {},
   "source": [
    "![Alt text](image.png)"
   ]
  },
  {
   "cell_type": "markdown",
   "metadata": {},
   "source": [
    " Укажите название города с максимальным весом единичной доставки.\n",
    "\n",
    " SELECT \n",
    "    c.city_name\n",
    "--    s.weight\n",
    "FROM\n",
    "    sql.shipment s\n",
    "    JOIN sql.city c ON s.city_id = c.city_id\n",
    "ORDER BY s.weight DESC\n",
    "\n",
    "второй вариант (с весом)\n",
    "\n",
    "SELECT \n",
    "    c.city_name,\n",
    "    MAX(s.weight)\n",
    "FROM\n",
    "    sql.shipment s\n",
    "    JOIN sql.city c ON s.city_id = c.city_id\n",
    "GROUP BY c.city_id, s.weight\n",
    "ORDER BY s.weight DESC"
   ]
  },
  {
   "cell_type": "markdown",
   "metadata": {},
   "source": [
    " Сколько различных производителей грузовиков перечислено в таблице truck?\n",
    "\n",
    " SELECT \n",
    "    distinct\n",
    "    make\n",
    "FROM\n",
    "    sql.truck "
   ]
  },
  {
   "cell_type": "markdown",
   "metadata": {},
   "source": [
    "Как зовут водителя (first_name), который совершил наибольшее количество доставок одному клиенту?\n",
    "\n",
    "SELECT \n",
    "    d.first_name,\n",
    "    COUNT(s.cust_id)\n",
    "FROM\n",
    "    sql.driver d \n",
    "    JOIN sql.shipment s ON s.driver_id = d.driver_id\n",
    "GROUP BY d.first_name, s.cust_id\n",
    "ORDER BY COUNT(s.cust_id) DESC"
   ]
  },
  {
   "cell_type": "markdown",
   "metadata": {},
   "source": [
    "Укажите даты первой и последней по времени доставок в таблице shipment.\n",
    "Ответ введите в формате ДД.ММ.ГГГГ.\n",
    "\n",
    "SELECT \n",
    "    max(ship_date),\n",
    "    min(ship_date)\n",
    "FROM\n",
    "    sql.shipment "
   ]
  },
  {
   "cell_type": "markdown",
   "metadata": {},
   "source": [
    "Укажите имя клиента, получившего наибольшее количество доставок за 2017 год.\n",
    "\n",
    "SELECT \n",
    "    cu.cust_name,\n",
    "    COUNT(s.ship_id)\n",
    "FROM\n",
    "    sql.customer cu \n",
    "    JOIN sql.shipment s ON s.cust_id = cu.cust_id\n",
    "WHERE s.ship_date >= '2017.01.01' AND s.ship_date < '2018.01.01'\n",
    "GROUP BY cu.cust_name\n",
    "\n",
    "ORDER BY COUNT(s.ship_id) DESC"
   ]
  },
  {
   "cell_type": "markdown",
   "metadata": {},
   "source": [
    "Допустим, мы хотим собрать из справочников по книгам и фильмам один, так чтобы в нём содержались названия произведений, а также их описание — книга или фильм.\n",
    "\n",
    "Для этого напишем простой запрос:\n",
    "\n",
    "ЗапросДетализация\n",
    "SELECT          book_name object_name, 'книга' object_description \n",
    "FROM          public.books\n",
    "UNION ALL\n",
    "SELECT          movie_title, 'фильм' \n",
    "FROM          sql.kinopoisk\n",
    "Визуально произведённое нами действие можно представить следующим образом:"
   ]
  },
  {
   "cell_type": "markdown",
   "metadata": {},
   "source": [
    "![Alt text](image-1.png)"
   ]
  },
  {
   "cell_type": "markdown",
   "metadata": {},
   "source": [
    "В запросе мы использовали оператор UNION ALL — он присоединяет любой результат запроса к другому «снизу» при условии, что у них одинаковая структура, а именно:\n",
    "\n",
    "одинаковый тип данных;\n",
    "одинаковое количество столбцов;\n",
    "одинаковый порядок столбцов согласно типу данных.\n",
    "ВИДЫ UNION\n",
    "\n",
    "Оператор присоединения существует в двух вариантах:\n",
    "\n",
    "UNION выводит только уникальные записи;\n",
    "UNION ALL присоединяет все строки последующих таблиц к предыдущим, без ограничений по уникальности.\n",
    "Важно! UNION оставляет только уникальные значения, а потому требует дополнительных вычислительных мощностей и памяти (в данном случае можно провести аналогию с DISTINCT). Поэтому если вы уверены в отсутствии дубликатов в данных или они вам не важны, предпочтительнее использовать UNION ALL.\n",
    "Проверить, как различаются операторы, вы сможете при выполнении заданий 2.1 и 3.1.\n",
    "\n",
    "СИНТАКСИС\n",
    "\n",
    "Запрос строится таким образом:\n",
    "\n",
    "SELECT         n columns\n",
    "FROM \n",
    "         table_1\n",
    "UNION ALL\n",
    "SELECT \n",
    "         n columns\n",
    "FROM \n",
    "         table_2\n",
    "...\n",
    "UNION ALL\n",
    "SELECT \n",
    "         n columns\n",
    "FROM \n",
    "         table_n\n",
    "Результатом выполнения такого запроса будут строки table_1, table_2, ..., table_n, соединённые одни под другими и выведенные в единой выдаче.\n",
    "\n",
    "Важно! Названия итоговых колонок в выводе будут такие же, как в первом блоке SELECT, даже если они отличаются в других блоках подзапросов.\n",
    "Пришла пора испытать функцию UNION(ALL) на практике.\n",
    "\n",
    "Обратимся к нашему датасету о транспортной компании и посмотрим, как сформировать справочник с ID всех таблиц и указанием объекта, к которому он относится."
   ]
  },
  {
   "cell_type": "markdown",
   "metadata": {},
   "source": [
    "SELECT\n",
    "         c.city_id object_name, 'id города' object_type\n",
    "FROM \n",
    "         sql.city c\n",
    "UNION ALL\n",
    "SELECT\n",
    "         d.driver_id other_name, 'id водителя' other_type\n",
    "FROM \n",
    "         sql.driver d\n",
    "UNION ALL\n",
    "SELECT\n",
    "         s.ship_id, 'id доставки'\n",
    "FROM \n",
    "         sql.shipment s\n",
    "UNION ALL\n",
    "SELECT\n",
    "         c.cust_id, 'id клиента'\n",
    "FROM \n",
    "         sql.customer c\n",
    "UNION ALL\n",
    "SELECT\n",
    "         t.truck_id, 'id грузовика'\n",
    "FROM \n",
    "         sql.truck t\n",
    "ORDER BY 1"
   ]
  },
  {
   "cell_type": "markdown",
   "metadata": {},
   "source": [
    "Обратите внимание! Несмотря на исходные названия колонок other_name и other_type во втором подзапросе, в выводе мы получим названия, которые дали в первом блоке: object_name и object_type.\n",
    "\n",
    "Другая особенность — в применении сортировки ORDER BY: она всегда будет относиться к итоговому результату всего запроса с UNION ALL.\n",
    "\n",
    "В случаях, когда необходимо применить команду ORDER BY или LIMIT не к итоговому результату, а к каждой части запроса, можно обернуть подзапросы в скобки.\n",
    "\n",
    "Чтобы посмотреть, как это работает, вернёмся к нашему примеру с общим справочником по фильмам и книгам.\n",
    "\n",
    "Мы уже знаем, что можно легко и непринуждённо применить операторы ORDER BY и LIMIT ко всему результату запроса."
   ]
  },
  {
   "cell_type": "markdown",
   "metadata": {},
   "source": [
    "SELECT book_name object_name, 'книга' object_descritption \n",
    "FROM public.books\n",
    "UNION ALL\n",
    "SELECT movie_title, 'фильм' \n",
    "FROM sql.kinopoisk\n",
    "ORDER BY 1\n",
    "LIMIT 1"
   ]
  },
  {
   "cell_type": "markdown",
   "metadata": {},
   "source": [
    "Всё бы хорошо, только в таком случае отсортирован будет весь общий справочник, а в выводе останется одна строка с названием объекта, идущим первым по алфавиту.\n",
    "\n",
    "А если мы не хотим общую сортировку? Может, нам нужны строки с названием как фильма, так и книги, идущих первыми по алфавиту.\n",
    "\n",
    "Нет ничего проще — отсортируем каждую часть запроса по отдельности и объединим результаты!\n",
    "\n",
    "Просто добавим ORDER BY и LIMIT ещё и в первую часть запроса:\n",
    "\n",
    "SELECT book_name object_name, 'книга' object_descritption \n",
    "FROM public.books\n",
    "ORDER BY 1\n",
    "LIMIT 1\n",
    "UNION ALL\n",
    "SELECT movie_title, 'фильм' \n",
    "FROM sql.kinopoisk\n",
    "ORDER BY 1\n",
    "LIMIT 1\n",
    "Вместо результата получим сообщение о синтаксической ошибке: \"...syntax error at or near \"UNION\"...\" Очевидно, этот фокус не удался.\n",
    "\n",
    "Не стоит огорчаться, ведь проблему можно решить одним (ну, почти) движением руки — просто добавив скобки вокруг каждой из частей запроса.\n",
    "\n",
    "(SELECT book_name object_name, 'книга' object_descritption \n",
    "FROM public.books\n",
    "ORDER BY 1\n",
    "LIMIT 1)\n",
    "UNION ALL\n",
    "(SELECT movie_title, 'фильм' \n",
    "FROM sql.kinopoisk\n",
    "ORDER BY 1\n",
    "LIMIT 1)\n",
    "Отлично! Мы получили именно то, что хотели."
   ]
  },
  {
   "cell_type": "markdown",
   "metadata": {},
   "source": [
    "Напишите запрос, который создает уникальный алфавитный справочник всех городов, штатов, имён водителей и производителей грузовиков. Результатом запроса должны быть два столбца: название и тип объекта (city, state, driver, truck). Отсортируйте список по названию объекта, а затем — по типу."
   ]
  },
  {
   "cell_type": "markdown",
   "metadata": {},
   "source": [
    "так много повторяющихся значений\n",
    "\n",
    "SELECT\n",
    "         c.city_name object_name, 'city' object_type\n",
    "FROM \n",
    "         sql.city c\n",
    "UNION ALL\n",
    "SELECT\n",
    "         c.state, 'state'\n",
    "FROM \n",
    "         sql.city c\n",
    "UNION ALL\n",
    "SELECT\n",
    "         d.first_name, 'driver'\n",
    "FROM \n",
    "         sql.driver d\n",
    "\n",
    "UNION ALL\n",
    "SELECT\n",
    "         t.make, 'truck'\n",
    "FROM \n",
    "         sql.truck t\n",
    "ORDER BY 1, 2"
   ]
  },
  {
   "cell_type": "markdown",
   "metadata": {},
   "source": [
    "убираем ALL:\n",
    "\n",
    "SELECT\n",
    "         c.city_name object_name, 'city' object_type\n",
    "FROM \n",
    "         sql.city c\n",
    "UNION\n",
    "SELECT\n",
    "         c.state, 'state'\n",
    "FROM \n",
    "         sql.city c\n",
    "UNION\n",
    "SELECT\n",
    "         d.first_name, 'driver'\n",
    "FROM \n",
    "         sql.driver d\n",
    "\n",
    "UNION\n",
    "SELECT\n",
    "         t.make, 'truck'\n",
    "FROM \n",
    "         sql.truck t\n",
    "ORDER BY 1, 2\n",
    "\n",
    "приняли этот вариант, хотя ИИ \"подсказывал\" вставить ALL"
   ]
  },
  {
   "cell_type": "markdown",
   "metadata": {},
   "source": [
    "Напишите запрос, который соберёт имена всех упомянутых городов и штатов из таблицы city. Результатом запроса должен быть один столбец object_name, отсортированный в алфавитном порядке."
   ]
  },
  {
   "cell_type": "markdown",
   "metadata": {},
   "source": [
    "SELECT\n",
    "         c.city_name object_name\n",
    "FROM \n",
    "         sql.city c\n",
    "UNION ALL\n",
    "SELECT\n",
    "         c.state\n",
    "FROM \n",
    "         sql.city c\n",
    "ORDER BY 1"
   ]
  },
  {
   "cell_type": "markdown",
   "metadata": {},
   "source": [
    "Выполнив предыдущий запрос, мы получили города с одинаковыми названиями, но находящиеся в разных штатах, а также большое количество дублирующихся названий штатов. Перепишите предыдущий запрос так, чтобы остались только уникальные названия городов и штатов. Результатом запроса должен быть один столбец object_name, отсортированный в алфавитном порядке."
   ]
  },
  {
   "cell_type": "markdown",
   "metadata": {},
   "source": [
    "SELECT\n",
    "         c.city_name object_name\n",
    "FROM \n",
    "         sql.city c\n",
    "UNION\n",
    "SELECT\n",
    "         c.state\n",
    "FROM \n",
    "         sql.city c\n",
    "ORDER BY 1"
   ]
  },
  {
   "cell_type": "markdown",
   "metadata": {},
   "source": [
    "Если мы всё же хотим выполнить поставленную задачу, придётся привести оба столбца к одному типу данных. Не каждый текст может быть приведён к числу, зато каждое число может быть представлено в текстовом формате.\n",
    "\n",
    "Забегая вперёд, скажем пару слов о типизации столбцов. Для типизации в Postgres составляется запрос по модели column_name::column_type.\n",
    "\n",
    "Таким образом, чтобы перевести city_id в текст, нам потребуется написать city_id::text.\n",
    "\n",
    "Важно! Любой тип данных может быть приведён к текстовому формату — эту возможность целесообразно использовать для соединения разнородных сущностей. Главное — помнить, что сортировка текста отличается от сортировки чисел и дат."
   ]
  },
  {
   "cell_type": "markdown",
   "metadata": {},
   "source": [
    "SELECT \n",
    "         c.city_id::text\n",
    "FROM\n",
    "         sql.city c\n",
    "UNION ALL\n",
    "SELECT \n",
    "         cc.city_name\n",
    "FROM\n",
    "         sql.city cc"
   ]
  },
  {
   "cell_type": "markdown",
   "metadata": {},
   "source": [
    "Напишите запрос, который объединит в себе все почтовые индексы водителей и их телефоны в единый столбец-справочник contact. Также добавьте столбец с именем водителя first_name и столбец contact_type с типом контакта (phone или zip в зависимости от типа). Отсортируйте список по столбцу с контактными данными в порядке возрастания, а затем — по имени водителя."
   ]
  },
  {
   "cell_type": "markdown",
   "metadata": {},
   "source": [
    "SELECT \n",
    "         d.zip_code::text contact,\n",
    "         d.first_name,\n",
    "         'zip' contact_type\n",
    "FROM\n",
    "         sql.driver d\n",
    "UNION ALL\n",
    "SELECT \n",
    "         d.phone,\n",
    "         d.first_name,\n",
    "         'phone' contact_type\n",
    "FROM\n",
    "         sql.driver d\n",
    "\n",
    "Почему-то прокатило без сортировки"
   ]
  },
  {
   "cell_type": "markdown",
   "metadata": {},
   "source": [
    "Кроме агрегатных функций, в запросах с UNION могут использоваться функции группировки и выборки.\n",
    "\n",
    "\n",
    "SELECT\n",
    "         c.city_name,\n",
    "         c.population /*выбираем столбцы city_name, population*/\n",
    "FROM\n",
    "         sql.city c /*из схемы sql и таблицы city, задаём таблице алиас с*/\n",
    "\n",
    "UNION ALL /*оператор присоединения*/\n",
    "\n",
    "SELECT\n",
    "         'total',\n",
    "         SUM(c.population) /*сами задаём объект ‘total’, суммируем все значения столбца population*/\n",
    "FROM\n",
    "         sql.city c /*из схемы sql и таблицы city, задаём таблице алиас с*/\n",
    "ORDER BY 2 DESC /*сортируем по второму столбцу в убывающем порядке (чтобы итоговая сумма была в начале)*/"
   ]
  },
  {
   "cell_type": "markdown",
   "metadata": {},
   "source": [
    "![Alt text](image-2.png)"
   ]
  },
  {
   "cell_type": "markdown",
   "metadata": {},
   "source": [
    "Напишите запрос, который выводит общее число доставок total_shipments, а также количество доставок в каждый день. Необходимые столбцы: date_period, cnt_shipment. Не забывайте о единой типизации. Упорядочите по убыванию столбца date_period."
   ]
  },
  {
   "cell_type": "markdown",
   "metadata": {},
   "source": [
    "SELECT \n",
    "    s.ship_date::text date_period, \n",
    "    COUNT(s.ship_id) cnt_shipment\n",
    "FROM\n",
    "         sql.shipment s\n",
    "GROUP BY s.ship_date\n",
    "UNION ALL\n",
    "SELECT \n",
    "         'total_shipments', COUNT(s.ship_id)\n",
    "FROM\n",
    "         sql.shipment s\n",
    "ORDER BY 1 DESC"
   ]
  },
  {
   "cell_type": "markdown",
   "metadata": {},
   "source": [
    "Например, с помощью UNION можно отобразить, у кого из водителей заполнен столбец с номером телефона.\n",
    "\n",
    "\n",
    "SELECT\n",
    "         d.first_name,\n",
    "         d.last_name,\n",
    "         'телефон заполнен' phone_info\n",
    "FROM\n",
    "         sql.driver d\n",
    "WHERE d.phone IS NOT NULL\n",
    "\n",
    "UNION\n",
    "\n",
    "SELECT\n",
    "         d.first_name,\n",
    "         d.last_name,\n",
    "         'телефон не заполнен' phone_info\n",
    "FROM\n",
    "         sql.driver d\n",
    "WHERE d.phone IS NULL"
   ]
  },
  {
   "cell_type": "markdown",
   "metadata": {},
   "source": [
    "Напишите запрос, который выведет все города и штаты, в которых они расположены, а также информацию о том, была ли осуществлена доставка в этот город:\n",
    "\n",
    "если в город была осуществлена доставка, то выводим 'доставка осуществлялась';\n",
    "если нет — выводим 'доставка не осуществлялась'.\n",
    "Столбцы к выводу: city_name, state, shipping_status. Отсортируйте в алфавитном порядке по городу, а затем — по штату."
   ]
  },
  {
   "cell_type": "markdown",
   "metadata": {},
   "source": [
    "SELECT\n",
    "        c.city_name,\n",
    "        c.state,\n",
    "        'доставка осуществлялась' shipping_status\n",
    "FROM\n",
    "        sql.city c\n",
    "        LEFT JOIN sql.shipment s ON c.city_id = s.city_id\n",
    "WHERE s.ship_id IS NOT NULL\n",
    "\n",
    "UNION\n",
    "\n",
    "SELECT\n",
    "        c.city_name,\n",
    "        c.state,\n",
    "        'доставка не осуществлялась' shipping_status\n",
    "FROM\n",
    "        sql.city c\n",
    "        LEFT JOIN sql.shipment s ON c.city_id = s.city_id\n",
    "WHERE s.ship_id IS NULL\n",
    "\n",
    "ORDER BY 1, 2"
   ]
  },
  {
   "cell_type": "markdown",
   "metadata": {},
   "source": [
    "Напишите запрос, который выводит два столбца: city_name и shippings_fake. Выведите города, куда совершались доставки. Пусть первый столбец содержит название города, а второй формируется так:\n",
    "\n",
    "если в городе было более десяти доставок, вывести количество доставок в этот город как есть;\n",
    "иначе — вывести количество доставок, увеличенное на пять.\n",
    "Отсортируйте по убыванию получившегося «нечестного» количества доставок, а затем — по имени в алфавитном порядке."
   ]
  },
  {
   "cell_type": "markdown",
   "metadata": {},
   "source": [
    "SELECT\n",
    "        c.city_name,\n",
    "        COUNT(s.ship_id) shippings_fake\n",
    "FROM\n",
    "        sql.city c\n",
    "        LEFT JOIN sql.shipment s ON c.city_id = s.city_id\n",
    "GROUP BY c.city_name, s.city_id\n",
    "HAVING COUNT(s.ship_id) > 10\n",
    "\n",
    "UNION ALL\n",
    "\n",
    "SELECT\n",
    "        c.city_name,\n",
    "        COUNT(s.ship_id) + 5\n",
    "FROM\n",
    "        sql.city c\n",
    "        LEFT JOIN sql.shipment s ON c.city_id = s.city_id\n",
    "GROUP BY c.city_name, s.city_id\n",
    "HAVING COUNT(s.ship_id) <= 10 AND COUNT(s.ship_id) > 0\n",
    "\n",
    "ORDER BY 2 DESC, 1"
   ]
  },
  {
   "cell_type": "markdown",
   "metadata": {},
   "source": [
    "Union чаще всего используется для создания \"синтетических\", искуственных таблиц"
   ]
  },
  {
   "cell_type": "markdown",
   "metadata": {},
   "source": [
    "SELECT \n",
    "         'a' letter,'1' ordinal_position\n",
    "UNION \n",
    "SELECT \n",
    "         'b','2'\n",
    "UNION \n",
    "SELECT\n",
    "         'c','3'"
   ]
  },
  {
   "cell_type": "markdown",
   "metadata": {},
   "source": [
    "Напишите запрос, который выберет наибольшее из значений:\n",
    "\n",
    "1000000;\n",
    "541;\n",
    "-500;\n",
    "100.\n",
    "Столбец с результатом назовите result.\n",
    "\n",
    "\n",
    "SELECT 1000000 result\n",
    "UNION ALL\n",
    "SELECT 541\n",
    "UNION ALL \n",
    "SELECT -500\n",
    "UNION ALL\n",
    "SELECT 100\n",
    "ORDER BY 1 DESC\n",
    "LIMIT 1"
   ]
  },
  {
   "cell_type": "markdown",
   "metadata": {},
   "source": [
    "Помним, что сортировка для числовых и строковых типов данных отличается. Построив запрос по аналогии с примером, приведите значения к текстовому типу данных, сравните и выберите наибольшее из них:\n",
    "\n",
    "1000000;\n",
    "541;\n",
    "-500;\n",
    "100.\n",
    "Столбец с ответом назовите mycol\n",
    "\n",
    "SELECT 1000000::text mycol\n",
    "UNION ALL\n",
    "SELECT 541::text\n",
    "UNION ALL \n",
    "SELECT (-500)::text\n",
    "UNION ALL\n",
    "SELECT 100::text\n",
    "ORDER BY 1 DESC\n",
    "LIMIT 1\n"
   ]
  },
  {
   "cell_type": "markdown",
   "metadata": {},
   "source": [
    "Построив запрос по аналогии с примером, найдите самое большое значение из перечисленных операторов:\n",
    "\n",
    "+ ;\n",
    "- ;\n",
    "= ;\n",
    "/ .\n",
    "Столбец с ответом назовите result.\n",
    "\n",
    "\n",
    "SELECT '+' mycol\n",
    "UNION ALL\n",
    "SELECT '-'::text\n",
    "UNION ALL \n",
    "SELECT '='::text\n",
    "UNION ALL\n",
    "SELECT '/'::text\n",
    "ORDER BY 1 DESC\n",
    "LIMIT 1"
   ]
  },
  {
   "cell_type": "markdown",
   "metadata": {},
   "source": [
    "SELECT\n",
    "         c.city_name\n",
    "FROM\n",
    "         sql.shipment s\n",
    "JOIN sql.city c ON s.city_id = c.city_id\n",
    "EXCEPT\n",
    "SELECT\n",
    "         cc.city_name\n",
    "FROM\n",
    "         sql.driver d \n",
    "JOIN sql.city cc ON d.city_id=cc.city_id\n",
    "ORDER BY 1"
   ]
  },
  {
   "cell_type": "markdown",
   "metadata": {},
   "source": [
    "Выведите список zip-кодов, которые есть в таблице sql.driver, но отсутствуют в таблице sql.customer. Отсортируйте по возрастанию, столбец к выводу — zip. В поле ниже введите запрос, с помощью которого вы решили эту задачу.\n",
    "\n",
    "\n",
    "SELECT\n",
    "        d.zip_code zip\n",
    "FROM\n",
    "        sql.driver d\n",
    "--JOIN sql.city c ON s.city_id = c.city_id\n",
    "EXCEPT\n",
    "SELECT\n",
    "        c.zip\n",
    "FROM\n",
    "        sql.customer c \n",
    "--JOIN sql.city cc ON d.city_id=cc.city_id\n",
    "ORDER BY 1"
   ]
  },
  {
   "cell_type": "markdown",
   "metadata": {},
   "source": [
    "SELECT          c.city_name object_name\n",
    "FROM          sql.city c\n",
    "INTERSECT\n",
    "SELECT \n",
    "         cc.state\n",
    "FROM          sql.city cc\n",
    "ORDER BY 1"
   ]
  },
  {
   "cell_type": "markdown",
   "metadata": {},
   "source": [
    "Напишите запрос, который выведет список id городов, в которых есть и клиенты, и доставки, и водители.\n",
    "\n",
    "\n",
    "SELECT c.city_id id\n",
    "FROM sql.customer c\n",
    "INTERSECT\n",
    "SELECT d.city_id\n",
    "FROM sql.driver d\n",
    "INTERSECT\n",
    "SELECT s.city_id\n",
    "FROM sql.shipment s\n",
    "ORDER BY 1"
   ]
  },
  {
   "cell_type": "markdown",
   "metadata": {},
   "source": [
    "Выведите zip-код, который есть как в таблице с клиентами, так и в таблице с водителями.\n",
    "\n",
    "\n",
    "SELECT c.zip zip\n",
    "FROM sql.customer c\n",
    "INTERSECT\n",
    "SELECT d.zip_code\n",
    "FROM sql.driver d\n",
    "--INTERSECT\n",
    "--SELECT s.city_id\n",
    "--FROM sql.shipment s\n",
    "ORDER BY 1"
   ]
  },
  {
   "cell_type": "markdown",
   "metadata": {},
   "source": [
    "## <center> ИТОГИ </center>"
   ]
  },
  {
   "cell_type": "markdown",
   "metadata": {},
   "source": [
    "SELECT          N columns\n",
    "FROM          table_1\n",
    "UNION / UNION ALL / EXCEPT / INTERSECT \n",
    "SELECT          N columns\n",
    "FROM          table_2"
   ]
  },
  {
   "cell_type": "markdown",
   "metadata": {},
   "source": [
    "Выведите города с максимальным и минимальным весом единичной доставки. Столбцы к выводу — city_name, weight.\n",
    "\n",
    "\n",
    "SELECT \n",
    "    c.city_name,\n",
    "    s.weight weight\n",
    "FROM\n",
    "    sql.shipment s\n",
    "    JOIN sql.city c ON s.city_id = c.city_id\n",
    "ORDER BY s.weight DESC\n",
    "LIMIT 1\n",
    "\n",
    "UNION\n",
    "\n",
    "SELECT \n",
    "    c.city_name,\n",
    "    s.weight weight\n",
    "FROM\n",
    "    sql.shipment s\n",
    "    JOIN sql.city c ON s.city_id = c.city_id\n",
    "ORDER BY s.weight\n",
    "LIMIT 1"
   ]
  },
  {
   "cell_type": "markdown",
   "metadata": {},
   "source": [
    "Выведите идентификационные номера клиентов (cust_id), которые совпадают с идентификационными номерами доставок (ship_id). Столбец к выводу — mutual_id. Отсортируйте по возрастанию.\n",
    "\n",
    "\n",
    "SELECT \n",
    "    s.cust_id mutual_id\n",
    "FROM\n",
    "    sql.shipment s\n",
    "\n",
    "INTERSECT\n",
    "\n",
    "SELECT \n",
    "    s.ship_id\n",
    "FROM\n",
    "    sql.shipment s\n",
    "ORDER BY 1"
   ]
  },
  {
   "cell_type": "markdown",
   "metadata": {},
   "source": [
    "Создайте справочник, содержащий уникальные имена клиентов, которые являются производителями (cust_type='manufacturer'), и производителей грузовиков, а также описание объекта — 'КЛИЕНТ' или 'ГРУЗОВИК'. Столбцы к выводу — object_name, object_description. Отсортируйте по названию в алфавитном порядке.\n",
    "\n",
    "\n",
    "SELECT \n",
    "    c.cust_name object_name,\n",
    "    'КЛИЕНТ' object_description\n",
    "FROM\n",
    "    sql.customer c\n",
    "WHERE cust_type = 'manufacturer'\n",
    "\n",
    "UNION\n",
    "\n",
    "SELECT \n",
    "    t.make ,\n",
    "    'ГРУЗОВИК' \n",
    "FROM\n",
    "    sql.truck t\n",
    "\n",
    "ORDER BY 1"
   ]
  },
  {
   "cell_type": "markdown",
   "metadata": {},
   "source": [
    "Знания по темам этого модуля зачастую проверяют работодатели на собеседованиях. Предлагаем вам ознакомиться с вопросами, с которыми вы можете столкнуться при поиске работы. \n",
    "\n",
    "Важно! Это задания на самопроверку, они необязательные и мы не будем оценивать качество их решения. На некоторые вопросы будет предоставляться ответ, а на некоторые — нет. Настоятельно рекомендуем вам попробовать найти ответ самостоятельно, прежде чем открывать его.\n",
    "\n",
    "⚡ Мы не добавляем скрипты для таблиц, которые нужны для заданий, так как именно в таком виде их получают кандидаты на собеседованиях."
   ]
  },
  {
   "cell_type": "markdown",
   "metadata": {},
   "source": [
    "Дан источник данных — таблица TEST_SQL\n",
    "![Alt text](image-3.png)"
   ]
  },
  {
   "cell_type": "markdown",
   "metadata": {},
   "source": [
    "Поля таблицы:\n",
    "\n",
    "ST_ORD (Varchar) — статус заявки;\n",
    "TYPE_PRODUCT_NAME (Varchar) — тип заявки;\n",
    "PRODUCT_INFOSOURCE1 (Varchar) — источник;\n",
    "CREATE_DATE (Date) — дата создания заявки;\n",
    "INDEX_LEAD (Number) — индикатор заявки (флаг 0/1 определяет регистрацию лида в системе);\n",
    "INDEX_ISSUE (Number) — индикатор выдачи (флаг 0/1 определяет наличие выдачи по заявке);\n",
    "INDEX_SUM (Number) — сумма по продукту.\n",
    "Задание 1. Сгруппируйте по месяцам количество заявок и сумму выдач, вычислите долю выдач.\n",
    "\n",
    "Задание 2. Определите источник, через который пришло больше всего заявок.\n",
    "\n",
    "Задание 3. Выделите количество заявок, которые являются ошибочными.\n",
    "\n",
    "Критерии ошибки:\n",
    "\n",
    "Статус заявки не проставляется или имеет значение «тестовая заявка».\n",
    "Заявка была создана в августе 2018 года.\n",
    "Присутствует индикатор выдачи, но при этом лид не был зарегистрирован в системе.\n",
    "Задание 4. Каким будет результат выполнения запросов ниже, если в поле CREATE_DATE будет содержаться значение 30.11.2017?\n",
    "\n",
    "select trunc(create_date, 'dd') , create_date from test_sql\n",
    "select trunc(create_date, 'mm') , create_date from test_sql\n",
    "select trunc(create_date, 'mm')+1, create_date from test_sql"
   ]
  }
 ],
 "metadata": {
  "language_info": {
   "name": "python"
  },
  "orig_nbformat": 4
 },
 "nbformat": 4,
 "nbformat_minor": 2
}
