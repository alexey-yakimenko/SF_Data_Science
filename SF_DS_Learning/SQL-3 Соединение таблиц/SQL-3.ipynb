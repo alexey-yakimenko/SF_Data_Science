{
 "cells": [
  {
   "cell_type": "markdown",
   "metadata": {},
   "source": [
    "SELECT    \n",
    "    season,  \n",
    "    SUM(home_team_goals) AS total_home_goals,  \n",
    "    SUM(away_team_goals) AS total_away_goals  \n",
    "FROM sql.matches     \n",
    "GROUP BY season  \n",
    "ORDER BY season   \n"
   ]
  },
  {
   "cell_type": "markdown",
   "metadata": {},
   "source": [
    "Чтобы соединить две таблицы между собой, достаточно записать названия таблиц через запятую в разделе from. Что произойдёт в таком случае?  \n",
    "\n",
    "SELECT *  \n",
    "FROM  \n",
    "    sql.teams,  \n",
    "    sql.matches  \n",
    "Каждая запись, которая есть в таблице teams, будет соединена с каждой записью в таблице matches.  \n",
    "\n",
    "Это действие также называют декартовым произведением таблиц.  "
   ]
  },
  {
   "cell_type": "markdown",
   "metadata": {},
   "source": [
    "SELECT          \n",
    "    long_name,  \n",
    "    home_team_goals,    \n",
    "    away_team_goals \n",
    "FROM    \n",
    "    sql.teams,  \n",
    "    sql.matches \n",
    "WHERE home_team_api_id = api_id \n",
    "\n",
    "SELECT \n",
    "    long_name,\n",
    "    home_team_goals,\n",
    "    away_team_goals\n",
    "FROM    \n",
    "    sql.teams\n",
    "JOIN sql.matches on home_team_api_id = api_id"
   ]
  },
  {
   "cell_type": "markdown",
   "metadata": {},
   "source": [
    "SELECT\n",
    "        столбец1,\n",
    "\tстолбец2,\n",
    "\t...\n",
    "FROM\n",
    "\tтаблица1\n",
    "JOIN таблица2 ON условие\n",
    "JOIN таблица3 ON условие"
   ]
  },
  {
   "cell_type": "markdown",
   "metadata": {},
   "source": [
    "SELECT\n",
    "    teams.id\n",
    "FROM \n",
    "    sql.teams\n",
    "JOIN sql.matches ON home_team_api_id = api_id"
   ]
  },
  {
   "cell_type": "markdown",
   "metadata": {},
   "source": [
    "SELECT\n",
    "        столбец1,\n",
    "\tстолбец2,\n",
    "\t...\n",
    "FROM\n",
    "\tтаблица1 AS короткое_название_1\n",
    "JOIN таблица2 AS короткое_название_2 ON условие"
   ]
  },
  {
   "cell_type": "markdown",
   "metadata": {},
   "source": [
    "Неудачный вариант - с кавычками и кириллицей\n",
    "\n",
    "SELECT\n",
    "\t\"таблица1\".столбец1,\n",
    "\t\"table 2\".столбец2,\n",
    "\t...\n",
    "FROM\n",
    "\tтаблица1 AS \"таблица1\"\n",
    "\tJOIN таблица2 AS \"table 2\" ON условие"
   ]
  },
  {
   "cell_type": "markdown",
   "metadata": {},
   "source": [
    "SELECT\n",
    "    столбец1 новое_название_столбца,\n",
    "\tстолбец2 новое_название_столбца,\n",
    "\t...\n",
    "FROM\n",
    "\tтаблица1 короткое_название_1\n",
    "JOIN таблица2 короткое_название_2 ON условие"
   ]
  },
  {
   "cell_type": "markdown",
   "metadata": {},
   "source": [
    "SELECT\n",
    "    matches.id match_id,\n",
    "    teams.id team_id\n",
    "FROM\n",
    "    sql.teams JOIN\n",
    "    sql.matches ON home_team_api_id = api_id\n",
    "ORDER BY match_id"
   ]
  },
  {
   "cell_type": "markdown",
   "metadata": {},
   "source": [
    "SELECT\n",
    "    h.long_name \"домашняя команда\",\n",
    "    m.home_team_goals \"голы домашней команды\",\n",
    "    m.away_team_goals \"голы гостевой команды\",\n",
    "    a.long_name \"гостевая команда\" \n",
    "FROM\n",
    "    sql.matches m\n",
    "    JOIN sql.teams h ON m.home_team_api_id = h.api_id\n",
    "    JOIN sql.teams a ON m.away_team_api_id = a.api_id"
   ]
  },
  {
   "cell_type": "markdown",
   "metadata": {},
   "source": [
    "SELECT\n",
    "    m.id,\n",
    "    h.short_name home_short,\n",
    "    g.short_name away_short\n",
    "FROM\n",
    "    sql.matches m\n",
    "    JOIN sql.teams h ON m.home_team_api_id = h.api_id\n",
    "    JOIN sql.teams g ON m.away_team_api_id = g.api_id\n",
    "ORDER BY m.id"
   ]
  },
  {
   "cell_type": "markdown",
   "metadata": {},
   "source": [
    "SELECT \n",
    "    m.id\n",
    "FROM\n",
    "    sql.teams t\n",
    "    JOIN sql.matches m ON m.away_team_api_id = t.api_id\n",
    "WHERE long_name = 'Arsenal'"
   ]
  },
  {
   "cell_type": "markdown",
   "metadata": {},
   "source": [
    "SELECT \n",
    "\tm.id id_1,\n",
    "\tm.season,\n",
    "\tt.id id_2,\n",
    "\tt.long_name\n",
    "FROM\n",
    "\tsql.teams t\n",
    "JOIN sql.matches m ON m.away_team_api_id = t.api_id"
   ]
  },
  {
   "cell_type": "markdown",
   "metadata": {},
   "source": [
    "SELECT \n",
    "    t.long_name,\n",
    "    m.home_team_goals home_goal,\n",
    "    m.away_team_goals away_goal\n",
    "FROM\n",
    "    sql.teams t\n",
    "    JOIN sql.matches m ON m.home_team_api_id = t.api_id\n",
    "WHERE short_name = 'GEN'\n",
    "ORDER BY m.id"
   ]
  },
  {
   "cell_type": "markdown",
   "metadata": {},
   "source": [
    "SELECT * /*выбор всех полей*/\n",
    "FROM    \n",
    "    sql.matches m /*таблица matches с алиасом m*/\n",
    "    JOIN sql.teams t on t.api_id = m.home_team_api_id /*оператор соединения таблиц; таблица teams с алиасом t; условие: home_team_api_id таблицы m равен api_id таблицы t*/\n",
    "WHERE\n",
    "    t.short_name = 'GEN' /*столбец short_name таблицы t имеет значение GEN*/\n",
    "    AND m.season = '2008/2009' /*столбец season таблицы m имеет значение 2008/2009*/"
   ]
  },
  {
   "cell_type": "markdown",
   "metadata": {},
   "source": [
    "SELECT \n",
    "    m.id,\n",
    "    h.short_name home_short,\n",
    "    a.short_name away_short\n",
    "FROM\n",
    "    sql.matches m\n",
    "    JOIN sql.teams h ON m.home_team_api_id = h.api_id\n",
    "    JOIN sql.teams a ON m.away_team_api_id = a.api_id\n",
    "WHERE (h.long_name = 'Liverpool' OR a.long_name = 'Liverpool') \n",
    "    AND m.season = '2011/2012'\n",
    "ORDER BY m.id"
   ]
  },
  {
   "cell_type": "markdown",
   "metadata": {},
   "source": [
    "SELECT \n",
    "    m.id,\n",
    "    h.short_name home_short,\n",
    "    a.short_name away_short\n",
    "FROM\n",
    "    sql.matches m\n",
    "    JOIN sql.teams h ON m.home_team_api_id = h.api_id\n",
    "    JOIN sql.teams a ON m.away_team_api_id = a.api_id\n",
    "WHERE (h.long_name = 'Liverpool' OR a.long_name = 'Liverpool') \n",
    "    AND m.season = '2011/2012'\n",
    "ORDER BY m.id"
   ]
  },
  {
   "cell_type": "markdown",
   "metadata": {},
   "source": [
    "SELECT\n",
    "    t.long_name, /*столбец long_name таблицы t*/\n",
    "    SUM(m.home_team_goals) + SUM(m.away_team_goals) match_goals /*функция суммирования; столбец home_team_goals таблицы m; функция суммирования; столбец away_team_goals таблицы m; новое название столбца*/\n",
    "FROM\n",
    "    sql.matches m /*таблица matches с алиасом m*/\n",
    "    JOIN sql.teams t ON m.away_team_api_id = t.api_id /*оператор соединения таблиц; таблица teams с алиасом t; условие: away_team_api_id таблицы m равен api_id таблицы t*/\n",
    "GROUP BY t.id /*группировка по столбцу id таблицы t*/\n",
    "\n",
    "Обратите внимание! В данном запросе была использована группировка по столбцу id таблицы teams, хотя этот столбец не выводится в запросе. Это необходимо для того, чтобы команды с одинаковым названием, если такие найдутся, не группировались между собой. Группировка по названию команды в данном запросе будет неверной, так как есть несколько команд с одинаковым полным названием — мы говорили об этом в начале модуля.\n",
    "\n",
    "Также, применяя агрегатные функции к соединённым таблицам, обращайте внимание на указание алиасов (или таблиц) при группировке и указании столбцов агрегатных функций. В нашей соединённой таблице есть два столбца с названием id, и если бы мы сформировали запрос без указания таблицы, как указано ниже, то..."
   ]
  },
  {
   "cell_type": "markdown",
   "metadata": {},
   "source": [
    "Мы можем использовать оператор HAVING для фильтрации сгруппированных данных.\n",
    "\n",
    "Поставим задачу — вывести таблицу с суммарным количеством забитых голов в матчах по командам и сезонам для команд, в которых суммарное количество голов в матчах сезона больше 100."
   ]
  },
  {
   "cell_type": "markdown",
   "metadata": {},
   "source": [
    "SELECT\n",
    "    m.season,\n",
    "    t.long_name,\n",
    "    SUM(m.home_team_goals) + SUM(m.away_team_goals) total_goals\n",
    "FROM sql.matches m\n",
    "JOIN sql.teams t ON t.api_id = m.home_team_api_id OR t.api_id = m.away_team_api_id\n",
    "GROUP BY m.season, t.id\n",
    "HAVING SUM(m.home_team_goals) + SUM(m.away_team_goals) > 100"
   ]
  },
  {
   "cell_type": "markdown",
   "metadata": {},
   "source": [
    "SELECT\n",
    "    m.season, /*столбец season таблицы m*/\n",
    "    t.long_name, /*столбец long_name таблицы t*/\n",
    "    SUM(m.home_team_goals) + SUM(m.away_team_goals) total_goals /*функция суммирования; столбец home_team_goals таблицы m; функция суммирования; столбец away_team_goals таблицы m; новое название столбца*/\n",
    "FROM sql.matches m /*таблица matches с алиасом m*/\n",
    "JOIN sql.teams t ON t.api_id = m.home_team_api_id OR t.api_id = m.away_team_api_id /*оператор соединения таблиц; таблица teams с алиасом t; условие: home_team_api_id таблицы m равен api_id таблицы t или away_team_api_id таблицы m равен api_id таблицы t*/\n",
    "GROUP BY m.season, t.id /*группировка по столбцам season таблицы m и id таблицы t*/\n",
    "HAVING SUM(m.home_team_goals) + SUM(m.away_team_goals) > 100 /*оператор фильтрации сгруппированных данных; функция суммирования; home_team_goals таблицы m; функция суммирования; away_team_goals таблицы m; больше 100*/"
   ]
  },
  {
   "cell_type": "markdown",
   "metadata": {},
   "source": [
    "Напишите запрос, с помощью которого можно вывести список полных названий команд, сыгравших в гостях 150 и более матчей.  \n",
    "Отсортируйте список по названию команды.\n",
    "\n",
    "SELECT\n",
    "  t.long_name\n",
    "FROM\n",
    "  sql.matches m\n",
    "  JOIN sql.teams t\n",
    "  ON t.api_id = m.away_team_api_id\n",
    "GROUP BY t.id\n",
    "HAVING COUNT(m.away_team_api_id) >= 150\n",
    "ORDER BY t.long_name"
   ]
  },
  {
   "cell_type": "markdown",
   "metadata": {},
   "source": [
    "SELECT\n",
    "    t.long_name\n",
    "FROM \n",
    "    sql.teams t\n",
    "LEFT JOIN sql.matches m ON t.api_id = m.home_team_api_id OR t.api_id = m.away_team_api_id\n",
    "WHERE m.id IS NULL\n",
    "\n",
    "\n",
    "\n",
    "Обратите внимание! Если мы добавим какой-либо фильтр по отличному от NULL значению для таблицы matches, то LEFT JOIN превратится в INNER JOIN, поскольку для второй таблицы станет необходимым присутствие такого (NOT NULL) значения в строке."
   ]
  },
  {
   "cell_type": "markdown",
   "metadata": {},
   "source": [
    "Используя LEFT JOIN, выведите список уникальных названий команд, содержащихся в таблице matches. Отсортируйте список в алфавитном порядке.\n",
    "\n",
    "\n",
    "SELECT\n",
    "    distinct(t.long_name)\n",
    "FROM \n",
    "    sql.teams t\n",
    "LEFT JOIN sql.matches m ON t.api_id = m.home_team_api_id OR t.api_id = m.away_team_api_id\n",
    "WHERE m.id IS NOT NULL\n",
    "ORDER BY t.long_name"
   ]
  },
  {
   "cell_type": "markdown",
   "metadata": {},
   "source": [
    "SELECT\n",
    "    t.long_name,\n",
    "    SUM(m.away_team_goals) total_goals\n",
    "FROM   \n",
    "    sql.teams t\n",
    "LEFT JOIN sql.matches m ON t.api_id = m.away_team_api_id\n",
    "GROUP BY t.id\n",
    "ORDER BY 2 DESC\n",
    "\n",
    "Обратите внимание! При применении функций SUM, MIN, MAX, AVG к полям со значением NULL в результате получится NULL, а не 0. А при использовании функции COUNT, наоборот, получится 0."
   ]
  },
  {
   "cell_type": "markdown",
   "metadata": {},
   "source": [
    "Используя LEFT JOIN, напишите запрос, который выведет полное название команды (long_name), количество матчей, в которых участвовала команда, — домашних и гостевых (matches_cnt). Отсортируйте по количеству матчей в порядке возрастания, затем — по названию команды в алфавитном порядке.\n",
    "\n",
    "\n",
    "SELECT\n",
    "    t.long_name,\n",
    "    COUNT(m.id) matches_cnt\n",
    "FROM \n",
    "    sql.teams t\n",
    "LEFT JOIN sql.matches m ON t.api_id = m.home_team_api_id OR t.api_id = m.away_team_api_id\n",
    "group by t.id\n",
    "ORDER BY matches_cnt, t.long_name"
   ]
  },
  {
   "cell_type": "markdown",
   "metadata": {},
   "source": [
    "SELECT\n",
    "    DISTINCT /*оператор исключения повторяющихся строк*/\n",
    "    t1.long_name home_team, /*столбец long_name таблицы t1; новое название*/\n",
    "    t2.long_name away_team /*столбец long_name таблицы t2; новое название*/\n",
    "FROM\n",
    "    sql.teams t1 /*таблица teams с алиасом t1*/\n",
    "    CROSS JOIN sql.teams t2 /*оператор соединения CROSS JOIN; таблица teams с алиасом t2*/"
   ]
  },
  {
   "cell_type": "markdown",
   "metadata": {},
   "source": [
    "Напишите запрос, который выведет все возможные уникальные комбинации коротких названий домашней команды (home_team) и коротких названий гостевой команды (away_team). Команда не может сама с собой играть, то есть быть и домашней, и одновременно гостевой (в одном и том же матче). Отсортируйте запрос по первому и второму столбцам.\n",
    "\n",
    "\n",
    "SELECT\n",
    "    DISTINCT\n",
    "    t1.short_name home_team, \n",
    "    t2.short_name away_team\n",
    "FROM\n",
    "    sql.teams t1\n",
    "    CROSS JOIN sql.teams t2\n",
    "WHERE t1.id != t2.id\n",
    "ORDER BY home_team, away_team"
   ]
  },
  {
   "cell_type": "markdown",
   "metadata": {},
   "source": [
    "Напишите запрос, который выведет список уникальных полных названий команд (long_name), игравших в гостях в матчах сезона 2012/2013. Отсортируйте список в алфавитном порядке.\n",
    "\n",
    "\n",
    "SELECT\n",
    "    DISTINCT\n",
    "    t.long_name \n",
    "FROM\n",
    "    sql.teams t\n",
    "    JOIN sql.matches m ON t.api_id = m.away_team_api_id\n",
    "WHERE season = '2012/2013'\n",
    "ORDER BY 1"
   ]
  },
  {
   "cell_type": "markdown",
   "metadata": {},
   "source": [
    "Напишите запрос, который выведет полное название команды (long_name) и общее количество матчей (matches_cnt), сыгранных командой Inter в домашних матчах.\n",
    "\n",
    "\n",
    "SELECT\n",
    "--    DISTINCT\n",
    "    t.long_name,\n",
    "    COUNT(m.home_team_api_id)\n",
    "FROM\n",
    "    sql.teams t\n",
    "    JOIN sql.matches m ON t.api_id = m.home_team_api_id\n",
    "\n",
    "WHERE t.long_name = 'Inter'\n",
    "GROUP BY t.id\n",
    "ORDER BY 1"
   ]
  },
  {
   "cell_type": "markdown",
   "metadata": {},
   "source": [
    "Напишите запрос, который выведет топ-10 команд (long_name) по суммарному количеству забитых голов в гостевых матчах. Во втором столбце запроса выведите суммарное количество голов в гостевых матчах (total_goals).\n",
    "\n",
    "\n",
    "SELECT\n",
    "--    DISTINCT\n",
    "    t.long_name,\n",
    "    SUM(m.away_team_goals) total_goals\n",
    "FROM\n",
    "    sql.teams t\n",
    "    JOIN sql.matches m ON t.api_id = m.away_team_api_id\n",
    "--WHERE t.long_name = 'Inter'\n",
    "GROUP BY t.id\n",
    "ORDER BY 2 desc\n",
    "LIMIT 10"
   ]
  },
  {
   "cell_type": "markdown",
   "metadata": {},
   "source": [
    "Выведите количество матчей между командами Real Madrid CF и FC Barcelona. В поле ниже введите запрос, с помощью которого вы решили задание.\n",
    "\n",
    "\n",
    "SELECT\n",
    "--    DISTINCT\n",
    "    COUNT(m.id) counts\n",
    "FROM\n",
    "    sql.matches m\n",
    "    JOIN sql.teams a ON m.away_team_api_id = a.api_id\n",
    "    JOIN sql.teams h ON m.home_team_api_id = h.api_id\n",
    "WHERE a.long_name = 'FC Barcelona' AND h.long_name = 'Real Madrid CF' \n",
    "OR h.long_name = 'FC Barcelona' AND a.long_name = 'Real Madrid CF'\n",
    "--GROUP BY t.id\n",
    "--ORDER BY 2 desc\n",
    "--LIMIT 10"
   ]
  },
  {
   "cell_type": "markdown",
   "metadata": {},
   "source": [
    "Напишите запрос, который выведет название команды (long_name), сезон (season) и суммарное количество забитых голов в домашних матчах (total_goals). Оставьте только те строки, в которых суммарное количество голов менее десяти. Отсортируйте запрос по названию команды, а затем — по сезону.\n",
    "\n",
    "\n",
    "SELECT \n",
    "    h.long_name,\n",
    "    m.season,\n",
    "    SUM(m.home_team_goals) total_goals\n",
    "FROM\n",
    "    sql.matches m\n",
    "    JOIN sql.teams h ON m.home_team_api_id = h.api_id\n",
    "GROUP BY h.id, m.season\n",
    "HAVING SUM(m.home_team_goals) < 10\n",
    "ORDER BY long_name, season"
   ]
  }
 ],
 "metadata": {
  "language_info": {
   "name": "python"
  },
  "orig_nbformat": 4
 },
 "nbformat": 4,
 "nbformat_minor": 2
}
