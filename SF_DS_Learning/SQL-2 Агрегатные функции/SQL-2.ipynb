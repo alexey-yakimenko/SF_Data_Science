{
 "cells": [
  {
   "cell_type": "markdown",
   "metadata": {},
   "source": [
    "SELECT DISTINCT /*выбрать уникальные значения*/  \n",
    "    type1 /*столбец type1*/  \n",
    "FROM sql.pokemon /*из таблицы sql.pokemon*/  \n",
    "\n",
    "SELECT DISTINCT /*выбрать уникальные значения*/  \n",
    "    type1, /*столбец type1*/  \n",
    "    type2 /*столбец type2*/  \n",
    "FROM sql.pokemon /*из таблицы sql.pokemon*/  \n",
    "\n",
    "Обратите внимание! DISTINCT пишется только один раз, в начале списка получаемых столбцов."
   ]
  },
  {
   "cell_type": "markdown",
   "metadata": {},
   "source": [
    "SELECT  \n",
    "    COUNT(*)  \n",
    "FROM sql.pokemon  \n",
    "\n",
    "Если в аргументе функции указать название столбца, функция обработает только строки с непустым значением.  \n",
    "\n",
    "Внутри функции COUNT мы можем также применять DISTINCT, чтобы вычислить количество уникальных значений.  \n",
    "\n",
    "SELECT  \n",
    "    COUNT(DISTINCT type1)  \n",
    "FROM sql.pokemon  \n",
    "\n",
    "SELECT  \n",
    "    AVG(hp)  \n",
    "FROM sql.pokemon  \n",
    "WHERE type1 = 'Dragon'  \n",
    "\n",
    "SELECT  \n",
    "    COUNT(*) AS \"всего травяных покемонов\",  \n",
    "    COUNT(type2) AS \"покемонов с дополнительным типом\",  \n",
    "    AVG(attack) AS \"средняя атака\",  \n",
    "    AVG(defense) AS \"средняя защита\"  \n",
    "FROM sql.pokemon  \n",
    "WHERE type1 = 'Grass'  \n",
    "\n",
    "SELECT /*выбор*/  \n",
    "    COUNT(*) AS \"всего травяных покемонов\", /*подсчёт всех строк; назначить алиас \"всего травяных покемонов\"*/  \n",
    "    COUNT(type2) AS \"покемонов с дополнительным типом\", /*подсчёт непустых строк в столбце type2; назначить алиас \"покемонов с дополнительным типом\"*/  \n",
    "    AVG(attack) AS \"средняя атака\", /*среднее значение столбца attack; назначить алиас \"средняя атака\"*/  \n",
    "    AVG(defense) AS \"средняя защита\" /*среднее значение столбца defense; назначить алиас \"средняя защита\"*/  \n",
    "FROM sql.pokemon /*из таблицы sql.pokemon*/  \n",
    "WHERE type1 = 'Grass'/*при условии, что значение столбца type1 содержит grass*/  \n",
    "\n"
   ]
  },
  {
   "cell_type": "markdown",
   "metadata": {},
   "source": [
    "С полным перечнем существующих агрегатных функций вы можете ознакомиться в [официальной документации](https://postgrespro.ru/docs/postgrespro/11/functions-aggregate)"
   ]
  },
  {
   "cell_type": "markdown",
   "metadata": {},
   "source": [
    "SELECT\n",
    "    COUNT(*) AS \"pokemon_count\",\n",
    "    AVG(speed) AS \"avg_speed\",\n",
    "    MAX(hp) AS \"max_hp \",\n",
    "    MIN(hp) AS \"min_hp \"\n",
    "FROM sql.pokemon\n",
    "WHERE type1 = 'Electric' AND type2 IS NOT NULL AND (attack > 50 OR defense > 50)"
   ]
  },
  {
   "cell_type": "markdown",
   "metadata": {},
   "source": [
    "SELECT /*выбор*/  \n",
    "    type1 AS pokemon_type, /*столбец type1; присвоить алиас pokemon_type*/  \n",
    "    COUNT(*) AS pokemon_count /*подсчёт всех строк; присвоить алиас pokemon_count*/  \n",
    "FROM sql.pokemon /*из таблицы sql.pokemon*/  \n",
    "GROUP BY type1 /*группировка по столбцу type1*/  \n",
    "ORDER BY type1 /*сортировка по столбцу type1*/  \n",
    "\n",
    "SELECT   \n",
    "    type1, type2,     \n",
    "    COUNT(*) CNT   \n",
    "FROM sql.pokemon   \n",
    "GROUP BY type1, type2   \n",
    "ORDER BY type1, type2 NULLS FIRST   \n",
    "\n",
    "SELECT /*выбор*/  \n",
    "    type1 AS pokemon_type, /*столбец type1; присвоить алиас pokemon_type*/  \n",
    "    COUNT(*) AS pokemon_count /*подсчёт всех строк; присвоить алиас pokemon_count*/  \n",
    "FROM sql.pokemon /*из таблицы sql.pokemon*/  \n",
    "GROUP BY pokemon_type /*группировка по столбцу pokemon_type*/  \n",
    "ORDER BY COUNT(*) DESC /*сортировка в порядке убывания*/  \n",
    "\n"
   ]
  },
  {
   "cell_type": "markdown",
   "metadata": {},
   "source": [
    "SELECT   \n",
    "    type1 AS primary_type,     \n",
    "    COUNT(DISTINCT type2) AS additional_types_count,\n",
    "    AVG(hp) AS avg_hp,\n",
    "    SUM(attack) AS attack_sum\n",
    "FROM sql.pokemon   \n",
    "GROUP BY type1\n",
    "ORDER BY COUNT(type2) DESC, primary_type \n",
    "\n",
    "SELECT /*выбор*/  \n",
    "    type1 AS primary_type, /*столбец type1; присвоить алиас primary_type*/  \n",
    "    type2 AS additional_type, /*столбец type2; присвоить алиас additional_type*/  \n",
    "    COUNT(*) AS pokemon_count /*подсчёт всех строк присвоить алиас pokemon_count*/  \n",
    "FROM sql.pokemon /*из таблицы sql.pokemon*/  \n",
    "GROUP BY 1, 2 /*группировка по столбцам 1 и 2*/  \n",
    "ORDER BY 1, 2 NULLS FIRST /*сортировка по столбцам 1 и 2; сначала нули*/  "
   ]
  },
  {
   "cell_type": "markdown",
   "metadata": {},
   "source": [
    "Обратите внимание! В группировке можно указывать порядковый номер столбца так же, как мы делали это в прошлом модуле для сортировки.  \n",
    "GROUP BY можно использовать и без агрегатных функций. Тогда его действие будет равносильно действию DISTINCT.  \n",
    "\n",
    "Сравните выводы двух запросов:  \n",
    "\n",
    "SELECT DISTINCT   \n",
    "    type1  \n",
    "FROM sql.pokemon  \n",
    "SELECT  \n",
    "    type1  \n",
    "FROM sql.pokemon  \n",
    "GROUP BY type1  "
   ]
  },
  {
   "cell_type": "markdown",
   "metadata": {},
   "source": [
    " \n",
    "SELECT       \n",
    "    type1 AS primary_type,       \n",
    "    COUNT(DISTINCT type2) AS additional_types_count,  \n",
    "    AVG(hp) AS avg_hp,  \n",
    "    SUM(attack) AS attack_sum  \n",
    "FROM sql.pokemon     \n",
    "GROUP BY type1  \n",
    "ORDER BY COUNT(type2) DESC, primary_type   "
   ]
  },
  {
   "cell_type": "markdown",
   "metadata": {},
   "source": [
    "Важно! HAVING обязательно пишется после GROUP BY.  \n",
    "\n",
    "Выведем типы покемонов и их средний показатель атаки, при этом оставим только тех, у кого средняя атака больше 90.  \n",
    "\n",
    "SELECT  \n",
    "    type1 AS primary_type,  \n",
    "    AVG(attack) AS avg_attack  \n",
    "FROM sql.pokemon  \n",
    "GROUP BY primary_type   \n",
    "HAVING AVG(attack) > 90  "
   ]
  },
  {
   "cell_type": "markdown",
   "metadata": {},
   "source": [
    "SELECT [ALL | DISTINCT] список_столбцов|*  \n",
    "FROM список_имён_таблиц  \n",
    "[WHERE условие_поиска]  \n",
    "[GROUP BY список_имён_столбцов]  \n",
    "[HAVING условие_поиска]   \n",
    "[ORDER BY имя_столбца [ASC | DESC],…]  "
   ]
  },
  {
   "cell_type": "markdown",
   "metadata": {},
   "source": [
    "SELECT    \n",
    "    type1 AS primary_type,     \n",
    "    type2 AS additional_type  \n",
    "FROM sql.pokemon    \n",
    "GROUP BY primary_type, additional_type     \n",
    "HAVING AVG(attack) > 100 AND MAX(hp) < 80  "
   ]
  },
  {
   "cell_type": "markdown",
   "metadata": {},
   "source": [
    "Напишите запрос, чтобы для покемонов, чьё имя (name) начинается с S, вывести столбцы с их основным типом (primary_type) и общим числом покемонов этого типа (pokemon_count). Оставьте только те типы, у которых средний показатель защиты больше 80. Выведите топ-3 типов по числу покемонов в них.\n",
    "\n",
    "SELECT  \n",
    "    type1 AS primary_type,   \n",
    "    COUNT(*) AS pokemon_count  \n",
    "FROM sql.pokemon  \n",
    "WHERE name LIKE 'S%'  \n",
    "GROUP BY primary_type  \n",
    "HAVING AVG(defense) > 80  \n",
    "ORDER BY COUNT(*) DESC  \n",
    "LIMIT 3  "
   ]
  },
  {
   "cell_type": "markdown",
   "metadata": {},
   "source": [
    "### <center> Итоговая структура запроса </center>\n",
    "\n",
    "SELECT  \n",
    "    столбец1 AS новое_название,  \n",
    "    столбец2,  \n",
    "    АГРЕГАТ(столбец3)   \n",
    "FROM таблица    \n",
    "WHERE (условие1 OR условие2)    \n",
    "    AND условие3    \n",
    "GROUP BY столбец1, столбец2 \n",
    "HAVING АГРЕГАТ(столбец3) > 5    \n",
    "ORDER BY сортировка1, сортировка2   \n",
    "OFFSET 1 LIMIT 2    "
   ]
  },
  {
   "cell_type": "markdown",
   "metadata": {},
   "source": [
    "SELECT    \n",
    "    type1 AS primary_type,     \n",
    "    type2 AS additional_type,  \n",
    "    AVG(hp) AS avg_hp,  \n",
    "    AVG(attack) AS avg_attack,  \n",
    "    AVG(defense) AS avg_defense,  \n",
    "    AVG(speed) AS avg_speed  \n",
    "FROM sql.pokemon    \n",
    "GROUP BY primary_type, additional_type     \n",
    "HAVING AVG(attack) + AVG(hp) + AVG(defense) + AVG(speed) > 400  "
   ]
  },
  {
   "cell_type": "markdown",
   "metadata": {},
   "source": [
    "Напишите запрос, который выведет столбцы с основным типом покемона и общим количеством покемонов этого типа. Учитывайте только тех покемонов, у кого или показатель атаки, или показатель защиты принимает значение между 50 и 100 включительно. Оставьте только те типы покемонов, у которых максимальный показатель здоровья не больше 125. Выведите только тот тип, который находится на пятом месте по количеству покемонов.\n",
    "\n",
    "\n",
    "SELECT    \n",
    "    type1,     \n",
    "    COUNT(type1) AS count  \n",
    "FROM sql.pokemon    \n",
    "WHERE defense BETWEEN 50 AND 100 OR attack BETWEEN 50 AND 100  \n",
    "GROUP BY type1    \n",
    "HAVING MAX(hp) <= 125  \n",
    "ORDER BY count DESC  \n",
    "OFFSET 4 LIMIT 1"
   ]
  }
 ],
 "metadata": {
  "language_info": {
   "name": "python"
  },
  "orig_nbformat": 4
 },
 "nbformat": 4,
 "nbformat_minor": 2
}
