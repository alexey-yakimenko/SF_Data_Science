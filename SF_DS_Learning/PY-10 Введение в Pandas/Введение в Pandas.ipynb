{
 "cells": [
  {
   "cell_type": "markdown",
   "metadata": {},
   "source": [
    "Задание 3.5"
   ]
  },
  {
   "cell_type": "code",
   "execution_count": 3,
   "metadata": {},
   "outputs": [
    {
     "name": "stdout",
     "output_type": "stream",
     "text": [
      "322\n"
     ]
    }
   ],
   "source": [
    "import pandas as pd\n",
    "income = [478, 512, 196]\n",
    "expenses = [156, 130, 270]\n",
    "years = [2018, 2019, 2020]\n",
    "\n",
    "import pandas as pd\n",
    "def create_companyDF(income, expenses, years):\n",
    "    DFSY = pd.DataFrame({\n",
    "        'Income' : income,\n",
    "        'Expenses' : expenses},\n",
    "        index = years\n",
    "    )\n",
    "    return DFSY\n",
    "def get_profit(df, year):\n",
    "    year_list = df.index\n",
    "    if year not in year_list:\n",
    "        return None\n",
    "    else:\n",
    "        money = df.loc[year, 'Income'] - df.loc[year, 'Expenses']\n",
    "        return money\n",
    "\n",
    "    \n",
    "df = create_companyDF(income, expenses, years)\n",
    "print(get_profit(df, 2018))\n",
    "\n"
   ]
  },
  {
   "cell_type": "code",
   "execution_count": 14,
   "metadata": {},
   "outputs": [],
   "source": [
    "countries_df = pd.DataFrame({\n",
    "    'country': ['Англия', 'Канада', 'США', 'Россия', 'Украина', 'Беларусь', 'Казахстан'],\n",
    "    'population': [56.29, 38.05, 322.28, 146.24, 45.5, 9.5, 17.04],\n",
    "    'square': [133396, 9984670, 9826630, 17125191, 603628, 207600, 2724902]\n",
    "})\n",
    "\n",
    "countries_df.to_csv('data/countries.csv', index=False, sep=';')\n"
   ]
  },
  {
   "cell_type": "code",
   "execution_count": 15,
   "metadata": {},
   "outputs": [
    {
     "data": {
      "text/html": [
       "<div>\n",
       "<style scoped>\n",
       "    .dataframe tbody tr th:only-of-type {\n",
       "        vertical-align: middle;\n",
       "    }\n",
       "\n",
       "    .dataframe tbody tr th {\n",
       "        vertical-align: top;\n",
       "    }\n",
       "\n",
       "    .dataframe thead th {\n",
       "        text-align: right;\n",
       "    }\n",
       "</style>\n",
       "<table border=\"1\" class=\"dataframe\">\n",
       "  <thead>\n",
       "    <tr style=\"text-align: right;\">\n",
       "      <th></th>\n",
       "      <th>country</th>\n",
       "      <th>population</th>\n",
       "      <th>square</th>\n",
       "    </tr>\n",
       "  </thead>\n",
       "  <tbody>\n",
       "    <tr>\n",
       "      <th>0</th>\n",
       "      <td>Англия</td>\n",
       "      <td>56.29</td>\n",
       "      <td>133396</td>\n",
       "    </tr>\n",
       "    <tr>\n",
       "      <th>1</th>\n",
       "      <td>Канада</td>\n",
       "      <td>38.05</td>\n",
       "      <td>9984670</td>\n",
       "    </tr>\n",
       "    <tr>\n",
       "      <th>2</th>\n",
       "      <td>США</td>\n",
       "      <td>322.28</td>\n",
       "      <td>9826630</td>\n",
       "    </tr>\n",
       "    <tr>\n",
       "      <th>3</th>\n",
       "      <td>Россия</td>\n",
       "      <td>146.24</td>\n",
       "      <td>17125191</td>\n",
       "    </tr>\n",
       "    <tr>\n",
       "      <th>4</th>\n",
       "      <td>Украина</td>\n",
       "      <td>45.50</td>\n",
       "      <td>603628</td>\n",
       "    </tr>\n",
       "    <tr>\n",
       "      <th>5</th>\n",
       "      <td>Беларусь</td>\n",
       "      <td>9.50</td>\n",
       "      <td>207600</td>\n",
       "    </tr>\n",
       "    <tr>\n",
       "      <th>6</th>\n",
       "      <td>Казахстан</td>\n",
       "      <td>17.04</td>\n",
       "      <td>2724902</td>\n",
       "    </tr>\n",
       "  </tbody>\n",
       "</table>\n",
       "</div>"
      ],
      "text/plain": [
       "     country  population    square\n",
       "0     Англия       56.29    133396\n",
       "1     Канада       38.05   9984670\n",
       "2        США      322.28   9826630\n",
       "3     Россия      146.24  17125191\n",
       "4    Украина       45.50    603628\n",
       "5   Беларусь        9.50    207600\n",
       "6  Казахстан       17.04   2724902"
      ]
     },
     "metadata": {},
     "output_type": "display_data"
    }
   ],
   "source": [
    "countries_data = pd.read_csv('data/countries.csv', sep=';')\n",
    "display(countries_data)"
   ]
  },
  {
   "cell_type": "markdown",
   "metadata": {},
   "source": [
    "index — номер строки\n",
    "Suburb — наименование пригорода\n",
    "Address — адрес\n",
    "Rooms — количество комнат в помещении\n",
    "Type — тип здания (h — дом, коттедж, вилла, терраса; u — блочный, дуплексный дом; t — таунхаус)\n",
    "Price — цена помещения\n",
    "Method — метод продажи \n",
    "SellerG — риэлторская компания\n",
    "Date — дата продажи (в формате день/месяц/год)\n",
    "Distance — расстояния до объекта от центра Мельбурна \n",
    "Postcode — почтовый индекс\n",
    "Bedroom — количество спален\n",
    "Bathroom — количество ванных комнат\n",
    "Car — количество парковочных мест\n",
    "Landsize — площадь прилегающей территории\n",
    "BuildingArea — площадь здания\n",
    "YearBuilt — год постройки\n",
    "CouncilArea — региональное управление\n",
    "Lattitude — географическая широта\n",
    "Longitude — географическая долгота\n",
    "Regionname — наименование района Мельбурна\n",
    "Propertycount — количество объектов недвижимости в районе\n",
    "Coordinates — широта и долгота, объединённые в кортеж"
   ]
  },
  {
   "cell_type": "markdown",
   "metadata": {},
   "source": [
    ".count() количество непустых значений\n",
    ".mean() среднее значение\n",
    ".min() минимальное значение\n",
    ".max() максимальное значение\n",
    ".var() дисперсия\n",
    ".std() стандартное отклонение\n",
    ".sum() сумма\n",
    ".quantile(x) квантиль уровня х\n",
    ".nunique() число уникальных значений\n",
    ".mode() модальное значение (чаще всего встречающееся)"
   ]
  },
  {
   "cell_type": "markdown",
   "metadata": {},
   "source": [
    ".info() - основная информация о массиве данных"
   ]
  },
  {
   "cell_type": "markdown",
   "metadata": {},
   "source": [
    ".describe() - наиболее популярные данные о массиве:\n",
    "count количество непустых значений\n",
    "mean среднее значение\n",
    "std стандартное отклонение\n",
    "min минимальное значение\n",
    "25% (25й квартиль)\n",
    "50% (50й квартиль, он же медиана)\n",
    "75% (75й квартиль)\n",
    "max максимальное значение\n",
    "\n",
    "для нечисловых значений используется:\n",
    ".describe(include=['object]) со следующими параметрами:\n",
    "count количество непустых значений\n",
    "unique количество уникальных значений\n",
    "top модальное значение (чаще всего встречающееся)\n",
    "freq количество повторений этого значения "
   ]
  },
  {
   "cell_type": "markdown",
   "metadata": {},
   "source": [
    "melb_data['Regionname'].value_counts() - количество использований каждого региона (например) в столбце\n",
    "melb_data['Regionname'].value_counts(normalize=True) - представление в виде доли (процентном соотношении)"
   ]
  },
  {
   "cell_type": "code",
   "execution_count": 22,
   "metadata": {},
   "outputs": [
    {
     "name": "stdout",
     "output_type": "stream",
     "text": [
      "2.7857142857142856\n"
     ]
    }
   ],
   "source": [
    "melb_data = pd.read_csv('data/melb_data.csv', sep=',')\n",
    "print(melb_data.loc[3521, 'Landsize'] / melb_data.loc[1690, 'Landsize'])"
   ]
  },
  {
   "cell_type": "code",
   "execution_count": 23,
   "metadata": {},
   "outputs": [
    {
     "data": {
      "text/html": [
       "<div>\n",
       "<style scoped>\n",
       "    .dataframe tbody tr th:only-of-type {\n",
       "        vertical-align: middle;\n",
       "    }\n",
       "\n",
       "    .dataframe tbody tr th {\n",
       "        vertical-align: top;\n",
       "    }\n",
       "\n",
       "    .dataframe thead th {\n",
       "        text-align: right;\n",
       "    }\n",
       "</style>\n",
       "<table border=\"1\" class=\"dataframe\">\n",
       "  <thead>\n",
       "    <tr style=\"text-align: right;\">\n",
       "      <th></th>\n",
       "      <th>index</th>\n",
       "      <th>Suburb</th>\n",
       "      <th>Address</th>\n",
       "      <th>Rooms</th>\n",
       "      <th>Type</th>\n",
       "      <th>Price</th>\n",
       "      <th>Method</th>\n",
       "      <th>SellerG</th>\n",
       "      <th>Date</th>\n",
       "      <th>Distance</th>\n",
       "      <th>...</th>\n",
       "      <th>Car</th>\n",
       "      <th>Landsize</th>\n",
       "      <th>BuildingArea</th>\n",
       "      <th>YearBuilt</th>\n",
       "      <th>CouncilArea</th>\n",
       "      <th>Lattitude</th>\n",
       "      <th>Longtitude</th>\n",
       "      <th>Regionname</th>\n",
       "      <th>Propertycount</th>\n",
       "      <th>Coordinates</th>\n",
       "    </tr>\n",
       "  </thead>\n",
       "  <tbody>\n",
       "    <tr>\n",
       "      <th>0</th>\n",
       "      <td>0</td>\n",
       "      <td>Abbotsford</td>\n",
       "      <td>85 Turner St</td>\n",
       "      <td>2</td>\n",
       "      <td>h</td>\n",
       "      <td>1480000.0</td>\n",
       "      <td>S</td>\n",
       "      <td>Biggin</td>\n",
       "      <td>3/12/2016</td>\n",
       "      <td>2.5</td>\n",
       "      <td>...</td>\n",
       "      <td>1.0</td>\n",
       "      <td>202.0</td>\n",
       "      <td>126.0</td>\n",
       "      <td>1970.0</td>\n",
       "      <td>Yarra</td>\n",
       "      <td>-37.7996</td>\n",
       "      <td>144.9984</td>\n",
       "      <td>Northern Metropolitan</td>\n",
       "      <td>4019.0</td>\n",
       "      <td>-37.7996, 144.9984</td>\n",
       "    </tr>\n",
       "    <tr>\n",
       "      <th>1</th>\n",
       "      <td>1</td>\n",
       "      <td>Abbotsford</td>\n",
       "      <td>25 Bloomburg St</td>\n",
       "      <td>2</td>\n",
       "      <td>h</td>\n",
       "      <td>1035000.0</td>\n",
       "      <td>S</td>\n",
       "      <td>Biggin</td>\n",
       "      <td>4/02/2016</td>\n",
       "      <td>2.5</td>\n",
       "      <td>...</td>\n",
       "      <td>0.0</td>\n",
       "      <td>156.0</td>\n",
       "      <td>79.0</td>\n",
       "      <td>1900.0</td>\n",
       "      <td>Yarra</td>\n",
       "      <td>-37.8079</td>\n",
       "      <td>144.9934</td>\n",
       "      <td>Northern Metropolitan</td>\n",
       "      <td>4019.0</td>\n",
       "      <td>-37.8079, 144.9934</td>\n",
       "    </tr>\n",
       "    <tr>\n",
       "      <th>2</th>\n",
       "      <td>2</td>\n",
       "      <td>Abbotsford</td>\n",
       "      <td>5 Charles St</td>\n",
       "      <td>3</td>\n",
       "      <td>h</td>\n",
       "      <td>1465000.0</td>\n",
       "      <td>SP</td>\n",
       "      <td>Biggin</td>\n",
       "      <td>4/03/2017</td>\n",
       "      <td>2.5</td>\n",
       "      <td>...</td>\n",
       "      <td>0.0</td>\n",
       "      <td>134.0</td>\n",
       "      <td>150.0</td>\n",
       "      <td>1900.0</td>\n",
       "      <td>Yarra</td>\n",
       "      <td>-37.8093</td>\n",
       "      <td>144.9944</td>\n",
       "      <td>Northern Metropolitan</td>\n",
       "      <td>4019.0</td>\n",
       "      <td>-37.8093, 144.9944</td>\n",
       "    </tr>\n",
       "    <tr>\n",
       "      <th>3</th>\n",
       "      <td>3</td>\n",
       "      <td>Abbotsford</td>\n",
       "      <td>40 Federation La</td>\n",
       "      <td>3</td>\n",
       "      <td>h</td>\n",
       "      <td>850000.0</td>\n",
       "      <td>PI</td>\n",
       "      <td>Biggin</td>\n",
       "      <td>4/03/2017</td>\n",
       "      <td>2.5</td>\n",
       "      <td>...</td>\n",
       "      <td>1.0</td>\n",
       "      <td>94.0</td>\n",
       "      <td>126.0</td>\n",
       "      <td>1970.0</td>\n",
       "      <td>Yarra</td>\n",
       "      <td>-37.7969</td>\n",
       "      <td>144.9969</td>\n",
       "      <td>Northern Metropolitan</td>\n",
       "      <td>4019.0</td>\n",
       "      <td>-37.7969, 144.9969</td>\n",
       "    </tr>\n",
       "    <tr>\n",
       "      <th>4</th>\n",
       "      <td>4</td>\n",
       "      <td>Abbotsford</td>\n",
       "      <td>55a Park St</td>\n",
       "      <td>4</td>\n",
       "      <td>h</td>\n",
       "      <td>1600000.0</td>\n",
       "      <td>VB</td>\n",
       "      <td>Nelson</td>\n",
       "      <td>4/06/2016</td>\n",
       "      <td>2.5</td>\n",
       "      <td>...</td>\n",
       "      <td>2.0</td>\n",
       "      <td>120.0</td>\n",
       "      <td>142.0</td>\n",
       "      <td>2014.0</td>\n",
       "      <td>Yarra</td>\n",
       "      <td>-37.8072</td>\n",
       "      <td>144.9941</td>\n",
       "      <td>Northern Metropolitan</td>\n",
       "      <td>4019.0</td>\n",
       "      <td>-37.8072, 144.9941</td>\n",
       "    </tr>\n",
       "  </tbody>\n",
       "</table>\n",
       "<p>5 rows × 23 columns</p>\n",
       "</div>"
      ],
      "text/plain": [
       "   index      Suburb           Address  Rooms Type      Price Method SellerG  \\\n",
       "0      0  Abbotsford      85 Turner St      2    h  1480000.0      S  Biggin   \n",
       "1      1  Abbotsford   25 Bloomburg St      2    h  1035000.0      S  Biggin   \n",
       "2      2  Abbotsford      5 Charles St      3    h  1465000.0     SP  Biggin   \n",
       "3      3  Abbotsford  40 Federation La      3    h   850000.0     PI  Biggin   \n",
       "4      4  Abbotsford       55a Park St      4    h  1600000.0     VB  Nelson   \n",
       "\n",
       "        Date  Distance  ...  Car  Landsize  BuildingArea  YearBuilt  \\\n",
       "0  3/12/2016       2.5  ...  1.0     202.0         126.0     1970.0   \n",
       "1  4/02/2016       2.5  ...  0.0     156.0          79.0     1900.0   \n",
       "2  4/03/2017       2.5  ...  0.0     134.0         150.0     1900.0   \n",
       "3  4/03/2017       2.5  ...  1.0      94.0         126.0     1970.0   \n",
       "4  4/06/2016       2.5  ...  2.0     120.0         142.0     2014.0   \n",
       "\n",
       "   CouncilArea  Lattitude  Longtitude             Regionname  Propertycount  \\\n",
       "0        Yarra   -37.7996    144.9984  Northern Metropolitan         4019.0   \n",
       "1        Yarra   -37.8079    144.9934  Northern Metropolitan         4019.0   \n",
       "2        Yarra   -37.8093    144.9944  Northern Metropolitan         4019.0   \n",
       "3        Yarra   -37.7969    144.9969  Northern Metropolitan         4019.0   \n",
       "4        Yarra   -37.8072    144.9941  Northern Metropolitan         4019.0   \n",
       "\n",
       "          Coordinates  \n",
       "0  -37.7996, 144.9984  \n",
       "1  -37.8079, 144.9934  \n",
       "2  -37.8093, 144.9944  \n",
       "3  -37.7969, 144.9969  \n",
       "4  -37.8072, 144.9941  \n",
       "\n",
       "[5 rows x 23 columns]"
      ]
     },
     "metadata": {},
     "output_type": "display_data"
    }
   ],
   "source": [
    "display(melb_data.head())"
   ]
  },
  {
   "cell_type": "code",
   "execution_count": 24,
   "metadata": {},
   "outputs": [
    {
     "data": {
      "text/plain": [
       "(13580, 23)"
      ]
     },
     "execution_count": 24,
     "metadata": {},
     "output_type": "execute_result"
    }
   ],
   "source": [
    "melb_data.shape"
   ]
  },
  {
   "cell_type": "code",
   "execution_count": 25,
   "metadata": {},
   "outputs": [
    {
     "name": "stdout",
     "output_type": "stream",
     "text": [
      "<class 'pandas.core.frame.DataFrame'>\n",
      "RangeIndex: 13580 entries, 0 to 13579\n",
      "Data columns (total 23 columns):\n",
      " #   Column         Non-Null Count  Dtype  \n",
      "---  ------         --------------  -----  \n",
      " 0   index          13580 non-null  int64  \n",
      " 1   Suburb         13580 non-null  object \n",
      " 2   Address        13580 non-null  object \n",
      " 3   Rooms          13580 non-null  int64  \n",
      " 4   Type           13580 non-null  object \n",
      " 5   Price          13580 non-null  float64\n",
      " 6   Method         13580 non-null  object \n",
      " 7   SellerG        13580 non-null  object \n",
      " 8   Date           13580 non-null  object \n",
      " 9   Distance       13580 non-null  float64\n",
      " 10  Postcode       13580 non-null  int64  \n",
      " 11  Bedroom        13580 non-null  float64\n",
      " 12  Bathroom       13580 non-null  float64\n",
      " 13  Car            13580 non-null  float64\n",
      " 14  Landsize       13580 non-null  float64\n",
      " 15  BuildingArea   13580 non-null  float64\n",
      " 16  YearBuilt      13580 non-null  float64\n",
      " 17  CouncilArea    12211 non-null  object \n",
      " 18  Lattitude      13580 non-null  float64\n",
      " 19  Longtitude     13580 non-null  float64\n",
      " 20  Regionname     13580 non-null  object \n",
      " 21  Propertycount  13580 non-null  float64\n",
      " 22  Coordinates    13580 non-null  object \n",
      "dtypes: float64(11), int64(3), object(9)\n",
      "memory usage: 2.4+ MB\n"
     ]
    }
   ],
   "source": [
    "melb_data.info()"
   ]
  },
  {
   "cell_type": "code",
   "execution_count": 26,
   "metadata": {},
   "outputs": [
    {
     "name": "stdout",
     "output_type": "stream",
     "text": [
      "<class 'pandas.core.frame.DataFrame'>\n",
      "RangeIndex: 13580 entries, 0 to 13579\n",
      "Data columns (total 23 columns):\n",
      " #   Column         Non-Null Count  Dtype  \n",
      "---  ------         --------------  -----  \n",
      " 0   index          13580 non-null  int64  \n",
      " 1   Suburb         13580 non-null  object \n",
      " 2   Address        13580 non-null  object \n",
      " 3   Rooms          13580 non-null  int64  \n",
      " 4   Type           13580 non-null  object \n",
      " 5   Price          13580 non-null  float64\n",
      " 6   Method         13580 non-null  object \n",
      " 7   SellerG        13580 non-null  object \n",
      " 8   Date           13580 non-null  object \n",
      " 9   Distance       13580 non-null  float64\n",
      " 10  Postcode       13580 non-null  int64  \n",
      " 11  Bedroom        13580 non-null  int64  \n",
      " 12  Bathroom       13580 non-null  int64  \n",
      " 13  Car            13580 non-null  int64  \n",
      " 14  Landsize       13580 non-null  float64\n",
      " 15  BuildingArea   13580 non-null  float64\n",
      " 16  YearBuilt      13580 non-null  int64  \n",
      " 17  CouncilArea    12211 non-null  object \n",
      " 18  Lattitude      13580 non-null  float64\n",
      " 19  Longtitude     13580 non-null  float64\n",
      " 20  Regionname     13580 non-null  object \n",
      " 21  Propertycount  13580 non-null  int64  \n",
      " 22  Coordinates    13580 non-null  object \n",
      "dtypes: float64(6), int64(8), object(9)\n",
      "memory usage: 2.4+ MB\n"
     ]
    }
   ],
   "source": [
    "melb_data['Car'] = melb_data['Car'].astype('int64')\n",
    "melb_data['Bedroom'] = melb_data['Bedroom'].astype('int64')\n",
    "melb_data['Bathroom'] = melb_data['Bathroom'].astype('int64')\n",
    "melb_data['Propertycount'] = melb_data['Propertycount'].astype('int64')\n",
    "melb_data['YearBuilt'] = melb_data['YearBuilt'].astype('int64')\n",
    "melb_data.info()"
   ]
  },
  {
   "cell_type": "code",
   "execution_count": 27,
   "metadata": {},
   "outputs": [
    {
     "data": {
      "text/html": [
       "<div>\n",
       "<style scoped>\n",
       "    .dataframe tbody tr th:only-of-type {\n",
       "        vertical-align: middle;\n",
       "    }\n",
       "\n",
       "    .dataframe tbody tr th {\n",
       "        vertical-align: top;\n",
       "    }\n",
       "\n",
       "    .dataframe thead th {\n",
       "        text-align: right;\n",
       "    }\n",
       "</style>\n",
       "<table border=\"1\" class=\"dataframe\">\n",
       "  <thead>\n",
       "    <tr style=\"text-align: right;\">\n",
       "      <th></th>\n",
       "      <th>Distance</th>\n",
       "      <th>BuildingArea</th>\n",
       "      <th>Price</th>\n",
       "    </tr>\n",
       "  </thead>\n",
       "  <tbody>\n",
       "    <tr>\n",
       "      <th>count</th>\n",
       "      <td>13580.000000</td>\n",
       "      <td>13580.000000</td>\n",
       "      <td>1.358000e+04</td>\n",
       "    </tr>\n",
       "    <tr>\n",
       "      <th>mean</th>\n",
       "      <td>10.137776</td>\n",
       "      <td>139.633972</td>\n",
       "      <td>1.075684e+06</td>\n",
       "    </tr>\n",
       "    <tr>\n",
       "      <th>std</th>\n",
       "      <td>5.868725</td>\n",
       "      <td>392.217403</td>\n",
       "      <td>6.393107e+05</td>\n",
       "    </tr>\n",
       "    <tr>\n",
       "      <th>min</th>\n",
       "      <td>0.000000</td>\n",
       "      <td>0.000000</td>\n",
       "      <td>8.500000e+04</td>\n",
       "    </tr>\n",
       "    <tr>\n",
       "      <th>25%</th>\n",
       "      <td>6.100000</td>\n",
       "      <td>122.000000</td>\n",
       "      <td>6.500000e+05</td>\n",
       "    </tr>\n",
       "    <tr>\n",
       "      <th>50%</th>\n",
       "      <td>9.200000</td>\n",
       "      <td>126.000000</td>\n",
       "      <td>9.030000e+05</td>\n",
       "    </tr>\n",
       "    <tr>\n",
       "      <th>75%</th>\n",
       "      <td>13.000000</td>\n",
       "      <td>129.940000</td>\n",
       "      <td>1.330000e+06</td>\n",
       "    </tr>\n",
       "    <tr>\n",
       "      <th>max</th>\n",
       "      <td>48.100000</td>\n",
       "      <td>44515.000000</td>\n",
       "      <td>9.000000e+06</td>\n",
       "    </tr>\n",
       "  </tbody>\n",
       "</table>\n",
       "</div>"
      ],
      "text/plain": [
       "           Distance  BuildingArea         Price\n",
       "count  13580.000000  13580.000000  1.358000e+04\n",
       "mean      10.137776    139.633972  1.075684e+06\n",
       "std        5.868725    392.217403  6.393107e+05\n",
       "min        0.000000      0.000000  8.500000e+04\n",
       "25%        6.100000    122.000000  6.500000e+05\n",
       "50%        9.200000    126.000000  9.030000e+05\n",
       "75%       13.000000    129.940000  1.330000e+06\n",
       "max       48.100000  44515.000000  9.000000e+06"
      ]
     },
     "execution_count": 27,
     "metadata": {},
     "output_type": "execute_result"
    }
   ],
   "source": [
    "melb_data.describe().loc[:, ['Distance', 'BuildingArea' , 'Price']]"
   ]
  },
  {
   "cell_type": "code",
   "execution_count": 28,
   "metadata": {},
   "outputs": [
    {
     "data": {
      "text/html": [
       "<div>\n",
       "<style scoped>\n",
       "    .dataframe tbody tr th:only-of-type {\n",
       "        vertical-align: middle;\n",
       "    }\n",
       "\n",
       "    .dataframe tbody tr th {\n",
       "        vertical-align: top;\n",
       "    }\n",
       "\n",
       "    .dataframe thead th {\n",
       "        text-align: right;\n",
       "    }\n",
       "</style>\n",
       "<table border=\"1\" class=\"dataframe\">\n",
       "  <thead>\n",
       "    <tr style=\"text-align: right;\">\n",
       "      <th></th>\n",
       "      <th>Suburb</th>\n",
       "      <th>Address</th>\n",
       "      <th>Type</th>\n",
       "      <th>Method</th>\n",
       "      <th>SellerG</th>\n",
       "      <th>Date</th>\n",
       "      <th>CouncilArea</th>\n",
       "      <th>Regionname</th>\n",
       "      <th>Coordinates</th>\n",
       "    </tr>\n",
       "  </thead>\n",
       "  <tbody>\n",
       "    <tr>\n",
       "      <th>count</th>\n",
       "      <td>13580</td>\n",
       "      <td>13580</td>\n",
       "      <td>13580</td>\n",
       "      <td>13580</td>\n",
       "      <td>13580</td>\n",
       "      <td>13580</td>\n",
       "      <td>12211</td>\n",
       "      <td>13580</td>\n",
       "      <td>13580</td>\n",
       "    </tr>\n",
       "    <tr>\n",
       "      <th>unique</th>\n",
       "      <td>314</td>\n",
       "      <td>13378</td>\n",
       "      <td>3</td>\n",
       "      <td>5</td>\n",
       "      <td>268</td>\n",
       "      <td>58</td>\n",
       "      <td>33</td>\n",
       "      <td>8</td>\n",
       "      <td>13097</td>\n",
       "    </tr>\n",
       "    <tr>\n",
       "      <th>top</th>\n",
       "      <td>Reservoir</td>\n",
       "      <td>36 Aberfeldie St</td>\n",
       "      <td>h</td>\n",
       "      <td>S</td>\n",
       "      <td>Nelson</td>\n",
       "      <td>27/05/2017</td>\n",
       "      <td>Moreland</td>\n",
       "      <td>Southern Metropolitan</td>\n",
       "      <td>-37.8361, 144.9966</td>\n",
       "    </tr>\n",
       "    <tr>\n",
       "      <th>freq</th>\n",
       "      <td>359</td>\n",
       "      <td>3</td>\n",
       "      <td>9449</td>\n",
       "      <td>9022</td>\n",
       "      <td>1565</td>\n",
       "      <td>473</td>\n",
       "      <td>1163</td>\n",
       "      <td>4695</td>\n",
       "      <td>12</td>\n",
       "    </tr>\n",
       "  </tbody>\n",
       "</table>\n",
       "</div>"
      ],
      "text/plain": [
       "           Suburb           Address   Type Method SellerG        Date  \\\n",
       "count       13580             13580  13580  13580   13580       13580   \n",
       "unique        314             13378      3      5     268          58   \n",
       "top     Reservoir  36 Aberfeldie St      h      S  Nelson  27/05/2017   \n",
       "freq          359                 3   9449   9022    1565         473   \n",
       "\n",
       "       CouncilArea             Regionname         Coordinates  \n",
       "count        12211                  13580               13580  \n",
       "unique          33                      8               13097  \n",
       "top       Moreland  Southern Metropolitan  -37.8361, 144.9966  \n",
       "freq          1163                   4695                  12  "
      ]
     },
     "execution_count": 28,
     "metadata": {},
     "output_type": "execute_result"
    }
   ],
   "source": [
    "melb_data.describe(include=['object'])"
   ]
  },
  {
   "cell_type": "code",
   "execution_count": 29,
   "metadata": {},
   "outputs": [
    {
     "data": {
      "text/plain": [
       "Regionname\n",
       "Southern Metropolitan         4695\n",
       "Northern Metropolitan         3890\n",
       "Western Metropolitan          2948\n",
       "Eastern Metropolitan          1471\n",
       "South-Eastern Metropolitan     450\n",
       "Eastern Victoria                53\n",
       "Northern Victoria               41\n",
       "Western Victoria                32\n",
       "Name: count, dtype: int64"
      ]
     },
     "execution_count": 29,
     "metadata": {},
     "output_type": "execute_result"
    }
   ],
   "source": [
    "melb_data['Regionname'].value_counts()"
   ]
  },
  {
   "cell_type": "code",
   "execution_count": 30,
   "metadata": {},
   "outputs": [
    {
     "data": {
      "text/plain": [
       "Regionname\n",
       "Southern Metropolitan         0.345729\n",
       "Northern Metropolitan         0.286451\n",
       "Western Metropolitan          0.217084\n",
       "Eastern Metropolitan          0.108321\n",
       "South-Eastern Metropolitan    0.033137\n",
       "Eastern Victoria              0.003903\n",
       "Northern Victoria             0.003019\n",
       "Western Victoria              0.002356\n",
       "Name: proportion, dtype: float64"
      ]
     },
     "execution_count": 30,
     "metadata": {},
     "output_type": "execute_result"
    }
   ],
   "source": [
    "melb_data['Regionname'].value_counts(normalize=True)"
   ]
  },
  {
   "cell_type": "code",
   "execution_count": 31,
   "metadata": {},
   "outputs": [
    {
     "data": {
      "text/plain": [
       "21650"
      ]
     },
     "execution_count": 31,
     "metadata": {},
     "output_type": "execute_result"
    }
   ],
   "source": [
    "melb_data['Propertycount'].max()\n"
   ]
  },
  {
   "cell_type": "code",
   "execution_count": 37,
   "metadata": {},
   "outputs": [
    {
     "data": {
      "text/plain": [
       "0.10193218928091195"
      ]
     },
     "execution_count": 37,
     "metadata": {},
     "output_type": "execute_result"
    }
   ],
   "source": [
    "abs(melb_data['Distance'].median()-melb_data['Distance'].mean())/melb_data['Distance'].median()"
   ]
  },
  {
   "cell_type": "code",
   "execution_count": 38,
   "metadata": {},
   "outputs": [
    {
     "data": {
      "text/plain": [
       "3"
      ]
     },
     "execution_count": 38,
     "metadata": {},
     "output_type": "execute_result"
    }
   ],
   "source": [
    "melb_data[(melb_data['Rooms'] == 3) & (melb_data['Price'] < 300000)].shape[0]"
   ]
  },
  {
   "cell_type": "code",
   "execution_count": 42,
   "metadata": {},
   "outputs": [
    {
     "data": {
      "text/plain": [
       "68"
      ]
     },
     "execution_count": 42,
     "metadata": {},
     "output_type": "execute_result"
    }
   ],
   "source": [
    "melb_data[((melb_data['Rooms'] == 3) | (melb_data['BuildingArea'] > 100)) & (melb_data['Price'] < 300000)].shape[0]"
   ]
  },
  {
   "cell_type": "code",
   "execution_count": 43,
   "metadata": {},
   "outputs": [
    {
     "data": {
      "text/plain": [
       "5"
      ]
     },
     "execution_count": 43,
     "metadata": {},
     "output_type": "execute_result"
    }
   ],
   "source": [
    "melb_data[melb_data['Type'] == 't']['Rooms'].max()"
   ]
  },
  {
   "cell_type": "code",
   "execution_count": 44,
   "metadata": {},
   "outputs": [
    {
     "data": {
      "text/plain": [
       "126.0"
      ]
     },
     "execution_count": 44,
     "metadata": {},
     "output_type": "execute_result"
    }
   ],
   "source": [
    "mean_price = melb_data['Price'].mean()\n",
    "melb_data[melb_data['Price'] > mean_price]['BuildingArea'].median()"
   ]
  },
  {
   "cell_type": "code",
   "execution_count": 46,
   "metadata": {},
   "outputs": [
    {
     "data": {
      "text/plain": [
       "index            34\n",
       "Suburb           34\n",
       "Address          34\n",
       "Rooms            34\n",
       "Type             34\n",
       "Price            34\n",
       "Method           34\n",
       "SellerG          34\n",
       "Date             34\n",
       "Distance         34\n",
       "Postcode         34\n",
       "Bedroom          34\n",
       "Bathroom         34\n",
       "Car              34\n",
       "Landsize         34\n",
       "BuildingArea     34\n",
       "YearBuilt        34\n",
       "CouncilArea      34\n",
       "Lattitude        34\n",
       "Longtitude       34\n",
       "Regionname       34\n",
       "Propertycount    34\n",
       "Coordinates      34\n",
       "dtype: int64"
      ]
     },
     "execution_count": 46,
     "metadata": {},
     "output_type": "execute_result"
    }
   ],
   "source": [
    "melb_data[melb_data['Bathroom'] == 0].count()"
   ]
  },
  {
   "cell_type": "code",
   "execution_count": 51,
   "metadata": {},
   "outputs": [
    {
     "data": {
      "text/plain": [
       "5"
      ]
     },
     "execution_count": 51,
     "metadata": {},
     "output_type": "execute_result"
    }
   ],
   "source": [
    "melb_data[(melb_data['SellerG'] == 'Nelson') & (melb_data['Price'] > 3000000)].shape[0]"
   ]
  },
  {
   "cell_type": "code",
   "execution_count": 53,
   "metadata": {},
   "outputs": [
    {
     "data": {
      "text/plain": [
       "412500.0"
      ]
     },
     "execution_count": 53,
     "metadata": {},
     "output_type": "execute_result"
    }
   ],
   "source": [
    "melb_data[melb_data['BuildingArea'] == 0]['Price'].min()"
   ]
  },
  {
   "cell_type": "code",
   "execution_count": 58,
   "metadata": {},
   "outputs": [
    {
     "data": {
      "text/plain": [
       "769238.6363636364"
      ]
     },
     "execution_count": 58,
     "metadata": {},
     "output_type": "execute_result"
    }
   ],
   "source": [
    "melb_data[((melb_data['YearBuilt'] > 2015) | (melb_data['Rooms'] > 5)) & (melb_data['Price'] < 1000000)]['Price'].mean()"
   ]
  },
  {
   "cell_type": "code",
   "execution_count": 66,
   "metadata": {},
   "outputs": [
    {
     "data": {
      "text/plain": [
       "0    Northern Metropolitan\n",
       "Name: Regionname, dtype: object"
      ]
     },
     "execution_count": 66,
     "metadata": {},
     "output_type": "execute_result"
    }
   ],
   "source": [
    "melb_data[(melb_data['Price'] < 3000000) & (melb_data['Type'] == 'h')]['Regionname'].mode()"
   ]
  },
  {
   "cell_type": "markdown",
   "metadata": {},
   "source": [
    "Студенты"
   ]
  },
  {
   "cell_type": "code",
   "execution_count": 4,
   "metadata": {},
   "outputs": [
    {
     "data": {
      "text/html": [
       "<div>\n",
       "<style scoped>\n",
       "    .dataframe tbody tr th:only-of-type {\n",
       "        vertical-align: middle;\n",
       "    }\n",
       "\n",
       "    .dataframe tbody tr th {\n",
       "        vertical-align: top;\n",
       "    }\n",
       "\n",
       "    .dataframe thead th {\n",
       "        text-align: right;\n",
       "    }\n",
       "</style>\n",
       "<table border=\"1\" class=\"dataframe\">\n",
       "  <thead>\n",
       "    <tr style=\"text-align: right;\">\n",
       "      <th></th>\n",
       "      <th>gender</th>\n",
       "      <th>race/ethnicity</th>\n",
       "      <th>parental level of education</th>\n",
       "      <th>lunch</th>\n",
       "      <th>test preparation course</th>\n",
       "      <th>math score</th>\n",
       "      <th>reading score</th>\n",
       "      <th>writing score</th>\n",
       "    </tr>\n",
       "  </thead>\n",
       "  <tbody>\n",
       "    <tr>\n",
       "      <th>0</th>\n",
       "      <td>female</td>\n",
       "      <td>group B</td>\n",
       "      <td>bachelor's degree</td>\n",
       "      <td>standard</td>\n",
       "      <td>none</td>\n",
       "      <td>72</td>\n",
       "      <td>72</td>\n",
       "      <td>74</td>\n",
       "    </tr>\n",
       "    <tr>\n",
       "      <th>1</th>\n",
       "      <td>female</td>\n",
       "      <td>group C</td>\n",
       "      <td>some college</td>\n",
       "      <td>standard</td>\n",
       "      <td>completed</td>\n",
       "      <td>69</td>\n",
       "      <td>90</td>\n",
       "      <td>88</td>\n",
       "    </tr>\n",
       "    <tr>\n",
       "      <th>2</th>\n",
       "      <td>female</td>\n",
       "      <td>group B</td>\n",
       "      <td>master's degree</td>\n",
       "      <td>standard</td>\n",
       "      <td>none</td>\n",
       "      <td>90</td>\n",
       "      <td>95</td>\n",
       "      <td>93</td>\n",
       "    </tr>\n",
       "    <tr>\n",
       "      <th>3</th>\n",
       "      <td>male</td>\n",
       "      <td>group A</td>\n",
       "      <td>associate's degree</td>\n",
       "      <td>free/reduced</td>\n",
       "      <td>none</td>\n",
       "      <td>47</td>\n",
       "      <td>57</td>\n",
       "      <td>44</td>\n",
       "    </tr>\n",
       "    <tr>\n",
       "      <th>4</th>\n",
       "      <td>male</td>\n",
       "      <td>group C</td>\n",
       "      <td>some college</td>\n",
       "      <td>standard</td>\n",
       "      <td>none</td>\n",
       "      <td>76</td>\n",
       "      <td>78</td>\n",
       "      <td>75</td>\n",
       "    </tr>\n",
       "  </tbody>\n",
       "</table>\n",
       "</div>"
      ],
      "text/plain": [
       "   gender race/ethnicity parental level of education         lunch  \\\n",
       "0  female        group B           bachelor's degree      standard   \n",
       "1  female        group C                some college      standard   \n",
       "2  female        group B             master's degree      standard   \n",
       "3    male        group A          associate's degree  free/reduced   \n",
       "4    male        group C                some college      standard   \n",
       "\n",
       "  test preparation course  math score  reading score  writing score  \n",
       "0                    none          72             72             74  \n",
       "1               completed          69             90             88  \n",
       "2                    none          90             95             93  \n",
       "3                    none          47             57             44  \n",
       "4                    none          76             78             75  "
      ]
     },
     "execution_count": 4,
     "metadata": {},
     "output_type": "execute_result"
    }
   ],
   "source": [
    "student_data = pd.read_csv('data/students_performance.csv')\n",
    "student_data.head()"
   ]
  },
  {
   "cell_type": "code",
   "execution_count": 5,
   "metadata": {},
   "outputs": [
    {
     "name": "stdout",
     "output_type": "stream",
     "text": [
      "<class 'pandas.core.frame.DataFrame'>\n",
      "RangeIndex: 1000 entries, 0 to 999\n",
      "Data columns (total 8 columns):\n",
      " #   Column                       Non-Null Count  Dtype \n",
      "---  ------                       --------------  ----- \n",
      " 0   gender                       1000 non-null   object\n",
      " 1   race/ethnicity               1000 non-null   object\n",
      " 2   parental level of education  1000 non-null   object\n",
      " 3   lunch                        1000 non-null   object\n",
      " 4   test preparation course      1000 non-null   object\n",
      " 5   math score                   1000 non-null   int64 \n",
      " 6   reading score                1000 non-null   int64 \n",
      " 7   writing score                1000 non-null   int64 \n",
      "dtypes: int64(3), object(5)\n",
      "memory usage: 62.6+ KB\n"
     ]
    }
   ],
   "source": [
    "student_data.info()"
   ]
  },
  {
   "cell_type": "code",
   "execution_count": 6,
   "metadata": {},
   "outputs": [
    {
     "data": {
      "text/plain": [
       "0    group C\n",
       "Name: race/ethnicity, dtype: object"
      ]
     },
     "execution_count": 6,
     "metadata": {},
     "output_type": "execute_result"
    }
   ],
   "source": [
    "student_data['race/ethnicity'].mode()"
   ]
  },
  {
   "cell_type": "code",
   "execution_count": 12,
   "metadata": {},
   "outputs": [
    {
     "data": {
      "text/plain": [
       "73.89385474860335"
      ]
     },
     "execution_count": 12,
     "metadata": {},
     "output_type": "execute_result"
    }
   ],
   "source": [
    "student_data[(student_data['test preparation course'] == 'completed')]['reading score'].mean()"
   ]
  },
  {
   "cell_type": "code",
   "execution_count": 49,
   "metadata": {},
   "outputs": [
    {
     "data": {
      "text/plain": [
       "1"
      ]
     },
     "execution_count": 49,
     "metadata": {},
     "output_type": "execute_result"
    }
   ],
   "source": [
    "student_data[student_data['math score'] == 0].shape[0]"
   ]
  },
  {
   "cell_type": "code",
   "execution_count": 35,
   "metadata": {},
   "outputs": [
    {
     "data": {
      "text/plain": [
       "70.03410852713178"
      ]
     },
     "execution_count": 35,
     "metadata": {},
     "output_type": "execute_result"
    }
   ],
   "source": [
    "student_data[(student_data['lunch'] == 'free/reduced')]['math score'].mean() > student_data[(student_data['lunch'] == 'standard')]['math score'].mean()\n",
    "student_data[(student_data['lunch'] == 'standard')]['math score'].mean()"
   ]
  },
  {
   "cell_type": "code",
   "execution_count": 37,
   "metadata": {},
   "outputs": [
    {
     "data": {
      "text/plain": [
       "gender                         118\n",
       "race/ethnicity                 118\n",
       "parental level of education    118\n",
       "lunch                          118\n",
       "test preparation course        118\n",
       "math score                     118\n",
       "reading score                  118\n",
       "writing score                  118\n",
       "dtype: int64"
      ]
     },
     "execution_count": 37,
     "metadata": {},
     "output_type": "execute_result"
    }
   ],
   "source": [
    "student_data[(student_data['parental level of education'] == \"bachelor's degree\")].count()"
   ]
  },
  {
   "cell_type": "code",
   "execution_count": 48,
   "metadata": {},
   "outputs": [
    {
     "data": {
      "text/plain": [
       "5.827586206896555"
      ]
     },
     "execution_count": 48,
     "metadata": {},
     "output_type": "execute_result"
    }
   ],
   "source": [
    "(student_data[student_data['race/ethnicity'] == \"group C\"]['writing score'].mean()) - (student_data[student_data['race/ethnicity'] == \"group A\"]['writing score'].median())"
   ]
  },
  {
   "cell_type": "code",
   "execution_count": null,
   "metadata": {},
   "outputs": [],
   "source": []
  }
 ],
 "metadata": {
  "kernelspec": {
   "display_name": "Python 3",
   "language": "python",
   "name": "python3"
  },
  "language_info": {
   "codemirror_mode": {
    "name": "ipython",
    "version": 3
   },
   "file_extension": ".py",
   "mimetype": "text/x-python",
   "name": "python",
   "nbconvert_exporter": "python",
   "pygments_lexer": "ipython3",
   "version": "3.9.10"
  },
  "orig_nbformat": 4
 },
 "nbformat": 4,
 "nbformat_minor": 2
}
